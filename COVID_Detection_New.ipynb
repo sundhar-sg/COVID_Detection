{
 "cells": [
  {
   "cell_type": "markdown",
   "metadata": {},
   "source": [
    "### Initializing the Sagemaker Instance and its Session"
   ]
  },
  {
   "cell_type": "code",
   "execution_count": 19,
   "metadata": {
    "tags": []
   },
   "outputs": [
    {
     "name": "stdout",
     "output_type": "stream",
     "text": [
      "\u001b[31mERROR: pip's dependency resolver does not currently take into account all the packages that are installed. This behaviour is the source of the following dependency conflicts.\n",
      "awscli 1.22.22 requires botocore==1.23.22, but you have botocore 1.29.109 which is incompatible.\n",
      "awscli 1.22.22 requires s3transfer<0.6.0,>=0.5.0, but you have s3transfer 0.6.0 which is incompatible.\u001b[0m\n",
      "\u001b[33mWARNING: Running pip as the 'root' user can result in broken permissions and conflicting behaviour with the system package manager. It is recommended to use a virtual environment instead: https://pip.pypa.io/warnings/venv\u001b[0m\n",
      "\u001b[33mWARNING: You are using pip version 21.3.1; however, version 23.0.1 is available.\n",
      "You should consider upgrading via the '/usr/local/bin/python3.8 -m pip install --upgrade pip' command.\u001b[0m\n"
     ]
    }
   ],
   "source": [
    "!pip install sagemaker ipywidgets --upgrade --quiet"
   ]
  },
  {
   "cell_type": "code",
   "execution_count": 20,
   "metadata": {
    "tags": []
   },
   "outputs": [],
   "source": [
    "import sagemaker, boto3, json\n",
    "from sagemaker.session import Session\n",
    "\n",
    "sagemaker_session = Session()\n",
    "aws_role = sagemaker_session.get_caller_identity_arn()\n",
    "aws_region = boto3.Session().region_name\n",
    "sess = sagemaker.Session()"
   ]
  },
  {
   "cell_type": "markdown",
   "metadata": {},
   "source": [
    "### Importing the Necessary Libraries"
   ]
  },
  {
   "cell_type": "code",
   "execution_count": 21,
   "metadata": {
    "tags": []
   },
   "outputs": [],
   "source": [
    "import numpy as np\n",
    "import pandas as pd\n",
    "import matplotlib.pyplot as plt\n",
    "import seaborn as sns\n",
    "import tensorflow as tf\n",
    "\n",
    "import os\n",
    "import cv2\n",
    "\n",
    "from sklearn.model_selection import train_test_split\n",
    "from sklearn.metrics import confusion_matrix\n",
    "from keras.utils.np_utils import to_categorical\n",
    "from keras.models import Model, load_model\n",
    "from keras import Input\n",
    "from keras.layers import Conv2D, Dense, BatchNormalization, Flatten,  Dropout, GlobalAveragePooling2D\n",
    "from keras.preprocessing.image import ImageDataGenerator, load_img, img_to_array\n",
    "from keras.callbacks import ReduceLROnPlateau, ModelCheckpoint\n",
    "from tensorflow.keras.optimizers import Adam\n",
    "from tensorflow.keras.applications import DenseNet121\n",
    "from tensorflow.keras.utils import plot_model"
   ]
  },
  {
   "cell_type": "markdown",
   "metadata": {},
   "source": [
    "### Importing the Dataset for Preprocessing and Model"
   ]
  },
  {
   "cell_type": "code",
   "execution_count": 22,
   "metadata": {
    "tags": []
   },
   "outputs": [
    {
     "data": {
      "text/html": [
       "<div>\n",
       "<style scoped>\n",
       "    .dataframe tbody tr th:only-of-type {\n",
       "        vertical-align: middle;\n",
       "    }\n",
       "\n",
       "    .dataframe tbody tr th {\n",
       "        vertical-align: top;\n",
       "    }\n",
       "\n",
       "    .dataframe thead th {\n",
       "        text-align: right;\n",
       "    }\n",
       "</style>\n",
       "<table border=\"1\" class=\"dataframe\">\n",
       "  <thead>\n",
       "    <tr style=\"text-align: right;\">\n",
       "      <th></th>\n",
       "      <th>File</th>\n",
       "      <th>ID</th>\n",
       "      <th>Disease Type</th>\n",
       "    </tr>\n",
       "  </thead>\n",
       "  <tbody>\n",
       "    <tr>\n",
       "      <th>0</th>\n",
       "      <td>COVID/Covid (340).png</td>\n",
       "      <td>0</td>\n",
       "      <td>COVID</td>\n",
       "    </tr>\n",
       "    <tr>\n",
       "      <th>1</th>\n",
       "      <td>COVID/Covid (896).png</td>\n",
       "      <td>0</td>\n",
       "      <td>COVID</td>\n",
       "    </tr>\n",
       "    <tr>\n",
       "      <th>2</th>\n",
       "      <td>COVID/Covid (1231).png</td>\n",
       "      <td>0</td>\n",
       "      <td>COVID</td>\n",
       "    </tr>\n",
       "    <tr>\n",
       "      <th>3</th>\n",
       "      <td>COVID/Covid (502).png</td>\n",
       "      <td>0</td>\n",
       "      <td>COVID</td>\n",
       "    </tr>\n",
       "    <tr>\n",
       "      <th>4</th>\n",
       "      <td>COVID/Covid (1150).png</td>\n",
       "      <td>0</td>\n",
       "      <td>COVID</td>\n",
       "    </tr>\n",
       "    <tr>\n",
       "      <th>...</th>\n",
       "      <td>...</td>\n",
       "      <td>...</td>\n",
       "      <td>...</td>\n",
       "    </tr>\n",
       "    <tr>\n",
       "      <th>2477</th>\n",
       "      <td>non-COVID/Non-Covid (671).png</td>\n",
       "      <td>1</td>\n",
       "      <td>non-COVID</td>\n",
       "    </tr>\n",
       "    <tr>\n",
       "      <th>2478</th>\n",
       "      <td>non-COVID/Non-Covid (914).png</td>\n",
       "      <td>1</td>\n",
       "      <td>non-COVID</td>\n",
       "    </tr>\n",
       "    <tr>\n",
       "      <th>2479</th>\n",
       "      <td>non-COVID/Non-Covid (590).png</td>\n",
       "      <td>1</td>\n",
       "      <td>non-COVID</td>\n",
       "    </tr>\n",
       "    <tr>\n",
       "      <th>2480</th>\n",
       "      <td>non-COVID/Non-Covid (1166).png</td>\n",
       "      <td>1</td>\n",
       "      <td>non-COVID</td>\n",
       "    </tr>\n",
       "    <tr>\n",
       "      <th>2481</th>\n",
       "      <td>non-COVID/Non-Covid (752).png</td>\n",
       "      <td>1</td>\n",
       "      <td>non-COVID</td>\n",
       "    </tr>\n",
       "  </tbody>\n",
       "</table>\n",
       "<p>2482 rows × 3 columns</p>\n",
       "</div>"
      ],
      "text/plain": [
       "                                File  ID Disease Type\n",
       "0              COVID/Covid (340).png   0        COVID\n",
       "1              COVID/Covid (896).png   0        COVID\n",
       "2             COVID/Covid (1231).png   0        COVID\n",
       "3              COVID/Covid (502).png   0        COVID\n",
       "4             COVID/Covid (1150).png   0        COVID\n",
       "...                              ...  ..          ...\n",
       "2477   non-COVID/Non-Covid (671).png   1    non-COVID\n",
       "2478   non-COVID/Non-Covid (914).png   1    non-COVID\n",
       "2479   non-COVID/Non-Covid (590).png   1    non-COVID\n",
       "2480  non-COVID/Non-Covid (1166).png   1    non-COVID\n",
       "2481   non-COVID/Non-Covid (752).png   1    non-COVID\n",
       "\n",
       "[2482 rows x 3 columns]"
      ]
     },
     "execution_count": 22,
     "metadata": {},
     "output_type": "execute_result"
    }
   ],
   "source": [
    "diseaseTypes = ['COVID', 'non-COVID']\n",
    "\n",
    "trainDir = dataDir = './Datasets/COVID_19_Chest_CT_1'\n",
    "trainData = []\n",
    "\n",
    "for index, sp in enumerate(diseaseTypes) :\n",
    "    for file in os.listdir(os.path.join(trainDir, sp)) :\n",
    "        trainData.append([sp + '/' + file, index, sp])\n",
    "\n",
    "trainDataset = pd.DataFrame(trainData, columns= ['File', 'ID', 'Disease Type'])\n",
    "trainDataset"
   ]
  },
  {
   "cell_type": "markdown",
   "metadata": {},
   "source": [
    "### Arranging the Dataset in a random order"
   ]
  },
  {
   "cell_type": "code",
   "execution_count": 23,
   "metadata": {
    "tags": []
   },
   "outputs": [
    {
     "data": {
      "text/html": [
       "<div>\n",
       "<style scoped>\n",
       "    .dataframe tbody tr th:only-of-type {\n",
       "        vertical-align: middle;\n",
       "    }\n",
       "\n",
       "    .dataframe tbody tr th {\n",
       "        vertical-align: top;\n",
       "    }\n",
       "\n",
       "    .dataframe thead th {\n",
       "        text-align: right;\n",
       "    }\n",
       "</style>\n",
       "<table border=\"1\" class=\"dataframe\">\n",
       "  <thead>\n",
       "    <tr style=\"text-align: right;\">\n",
       "      <th></th>\n",
       "      <th>File</th>\n",
       "      <th>ID</th>\n",
       "      <th>Disease Type</th>\n",
       "    </tr>\n",
       "  </thead>\n",
       "  <tbody>\n",
       "    <tr>\n",
       "      <th>0</th>\n",
       "      <td>COVID/Covid (1200).png</td>\n",
       "      <td>0</td>\n",
       "      <td>COVID</td>\n",
       "    </tr>\n",
       "    <tr>\n",
       "      <th>1</th>\n",
       "      <td>COVID/Covid (122).png</td>\n",
       "      <td>0</td>\n",
       "      <td>COVID</td>\n",
       "    </tr>\n",
       "    <tr>\n",
       "      <th>2</th>\n",
       "      <td>non-COVID/Non-Covid (588).png</td>\n",
       "      <td>1</td>\n",
       "      <td>non-COVID</td>\n",
       "    </tr>\n",
       "    <tr>\n",
       "      <th>3</th>\n",
       "      <td>non-COVID/Non-Covid (535).png</td>\n",
       "      <td>1</td>\n",
       "      <td>non-COVID</td>\n",
       "    </tr>\n",
       "    <tr>\n",
       "      <th>4</th>\n",
       "      <td>COVID/Covid (156).png</td>\n",
       "      <td>0</td>\n",
       "      <td>COVID</td>\n",
       "    </tr>\n",
       "    <tr>\n",
       "      <th>...</th>\n",
       "      <td>...</td>\n",
       "      <td>...</td>\n",
       "      <td>...</td>\n",
       "    </tr>\n",
       "    <tr>\n",
       "      <th>2477</th>\n",
       "      <td>non-COVID/Non-Covid (216).png</td>\n",
       "      <td>1</td>\n",
       "      <td>non-COVID</td>\n",
       "    </tr>\n",
       "    <tr>\n",
       "      <th>2478</th>\n",
       "      <td>COVID/Covid (909).png</td>\n",
       "      <td>0</td>\n",
       "      <td>COVID</td>\n",
       "    </tr>\n",
       "    <tr>\n",
       "      <th>2479</th>\n",
       "      <td>COVID/Covid (653).png</td>\n",
       "      <td>0</td>\n",
       "      <td>COVID</td>\n",
       "    </tr>\n",
       "    <tr>\n",
       "      <th>2480</th>\n",
       "      <td>non-COVID/Non-Covid (555).png</td>\n",
       "      <td>1</td>\n",
       "      <td>non-COVID</td>\n",
       "    </tr>\n",
       "    <tr>\n",
       "      <th>2481</th>\n",
       "      <td>COVID/Covid (363).png</td>\n",
       "      <td>0</td>\n",
       "      <td>COVID</td>\n",
       "    </tr>\n",
       "  </tbody>\n",
       "</table>\n",
       "<p>2482 rows × 3 columns</p>\n",
       "</div>"
      ],
      "text/plain": [
       "                               File  ID Disease Type\n",
       "0            COVID/Covid (1200).png   0        COVID\n",
       "1             COVID/Covid (122).png   0        COVID\n",
       "2     non-COVID/Non-Covid (588).png   1    non-COVID\n",
       "3     non-COVID/Non-Covid (535).png   1    non-COVID\n",
       "4             COVID/Covid (156).png   0        COVID\n",
       "...                             ...  ..          ...\n",
       "2477  non-COVID/Non-Covid (216).png   1    non-COVID\n",
       "2478          COVID/Covid (909).png   0        COVID\n",
       "2479          COVID/Covid (653).png   0        COVID\n",
       "2480  non-COVID/Non-Covid (555).png   1    non-COVID\n",
       "2481          COVID/Covid (363).png   0        COVID\n",
       "\n",
       "[2482 rows x 3 columns]"
      ]
     },
     "execution_count": 23,
     "metadata": {},
     "output_type": "execute_result"
    },
    {
     "data": {
      "image/png": "[encoded data removed]",
      "text/plain": [
       "<Figure size 432x288 with 1 Axes>"
      ]
     },
     "metadata": {
      "needs_background": "light"
     },
     "output_type": "display_data"
    }
   ],
   "source": [
    "seed = 42\n",
    "trainDataset = trainDataset.sample(frac=1, replace=False, random_state=seed)\n",
    "trainDataset = trainDataset.reset_index(drop=True)\n",
    "\n",
    "sns.countplot(x = \"ID\", data=trainDataset).set_title(\"Frequency Histogram (0: COVID, 1: non-COVID)\")\n",
    "trainDataset"
   ]
  },
  {
   "cell_type": "markdown",
   "metadata": {},
   "source": [
    "### Dataset Sample Visualization"
   ]
  },
  {
   "cell_type": "code",
   "execution_count": 24,
   "metadata": {
    "tags": []
   },
   "outputs": [
    {
     "data": {
      "image/png": "[encoded data removed]",
      "text/plain": [
       "<Figure size 360x360 with 4 Axes>"
      ]
     },
     "metadata": {},
     "output_type": "display_data"
    },
    {
     "data": {
      "image/png": "[encoded data removed]",
      "text/plain": [
       "<Figure size 360x360 with 4 Axes>"
      ]
     },
     "metadata": {},
     "output_type": "display_data"
    }
   ],
   "source": [
    "def plot_defects(defect_types, rows, cols):\n",
    "    fig, ax = plt.subplots(rows, cols, figsize=(5, 5))\n",
    "    defect_files = trainDataset['File'][trainDataset['Disease Type'] == defect_types].values\n",
    "    n = 0\n",
    "    fig.suptitle(defect_types, fontsize = 22, color = \"black\")\n",
    "    for i in range(rows):\n",
    "        for j in range(cols):\n",
    "            image_path = os.path.join(dataDir, defect_files[n])\n",
    "            ax[i, j].set_xticks([])\n",
    "            ax[i, j].set_yticks([])\n",
    "            ax[i, j].imshow(cv2.imread(image_path))\n",
    "            n += 1\n",
    "\n",
    "\n",
    "plot_defects('COVID', 2, 2)\n",
    "plot_defects('non-COVID', 2, 2)"
   ]
  },
  {
   "cell_type": "markdown",
   "metadata": {},
   "source": [
    "### Preprocessing the Dataset"
   ]
  },
  {
   "cell_type": "code",
   "execution_count": 25,
   "metadata": {
    "tags": []
   },
   "outputs": [],
   "source": [
    "imageSize = 224\n",
    "def readImage(filePath) :\n",
    "    return cv2.imread(os.path.join(dataDir, filePath))\n",
    "\n",
    "def resizeImage(image, imageSize) :\n",
    "    return cv2.resize(image.copy(), imageSize, interpolation=cv2.INTER_AREA)"
   ]
  },
  {
   "cell_type": "code",
   "execution_count": 26,
   "metadata": {
    "tags": []
   },
   "outputs": [
    {
     "name": "stdout",
     "output_type": "stream",
     "text": [
      "Train Dataset Shape:  (2482, 224, 224, 3)\n",
      "Test Dataset Shape:  (2482, 2)\n"
     ]
    }
   ],
   "source": [
    "trainNumpy = np.zeros((trainDataset.shape[0], imageSize, imageSize, 3))\n",
    "\n",
    "for i, file in enumerate(trainDataset['File'].values) :\n",
    "    image = readImage(file)\n",
    "    if image is not None :\n",
    "        trainNumpy[i] = resizeImage(image, (imageSize, imageSize))\n",
    "\n",
    "trainNumpy = trainNumpy / 255.0\n",
    "print(\"Train Dataset Shape: \", trainNumpy.shape)\n",
    "\n",
    "testNumpy = to_categorical(trainDataset['ID'].values, num_classes=2)\n",
    "print(\"Test Dataset Shape: \", testNumpy.shape)"
   ]
  },
  {
   "cell_type": "code",
   "execution_count": 27,
   "metadata": {
    "tags": []
   },
   "outputs": [
    {
     "name": "stdout",
     "output_type": "stream",
     "text": [
      "X - Train Shape:  (1985, 224, 224, 3)\n",
      "X - Test Shape:  (497, 224, 224, 3)\n",
      "Y - Train Shape:  (1985, 2)\n",
      "Y - Test Shape:  (497, 2)\n"
     ]
    }
   ],
   "source": [
    "xtrain, xtest, ytrain, ytest = train_test_split(trainNumpy, testNumpy, test_size=0.2, random_state=seed)\n",
    "print(\"X - Train Shape: \", xtrain.shape)\n",
    "print(\"X - Test Shape: \", xtest.shape)\n",
    "print(\"Y - Train Shape: \", ytrain.shape)\n",
    "print(\"Y - Test Shape: \", ytest.shape)"
   ]
  },
  {
   "cell_type": "markdown",
   "metadata": {},
   "source": [
    "### Building the Model and Modifying for Cuckoo Search"
   ]
  },
  {
   "cell_type": "code",
   "execution_count": 28,
   "metadata": {
    "tags": []
   },
   "outputs": [],
   "source": [
    "def buildModel(imageSize, channels) :\n",
    "    denseNet = DenseNet121(include_top=False, weights=\"imagenet\")\n",
    "    input = Input(shape=(imageSize, imageSize, channels))\n",
    "    x = Conv2D(3, (3, 3), padding = 'same')(input)\n",
    "    x = denseNet(x)\n",
    "    x = GlobalAveragePooling2D()(x)\n",
    "    x = BatchNormalization()(x)\n",
    "    x = Dropout(rate=0.25)(x)\n",
    "    x = Flatten()(x)\n",
    "    x = Dense(64, activation = 'relu')(x)\n",
    "    x = BatchNormalization()(x)\n",
    "    output = Dense(2, activation='softmax')(x)\n",
    "    model = Model(input, output)\n",
    "    for layer in denseNet.layers:\n",
    "        layer.trainable = False\n",
    "\n",
    "    optimizer = Adam(learning_rate = 0.003, beta_1 = 0.9, beta_2 = 0.999, epsilon = 0.1, decay = 0.0)\n",
    "    model.compile(loss = 'categorical_crossentropy',\n",
    "                  optimizer = optimizer,\n",
    "                  metrics = ['accuracy'])\n",
    "    model.summary()\n",
    "    return model"
   ]
  },
  {
   "cell_type": "code",
   "execution_count": 29,
   "metadata": {
    "tags": []
   },
   "outputs": [
    {
     "name": "stdout",
     "output_type": "stream",
     "text": [
      "Model: \"model_1\"\n",
      "_________________________________________________________________\n",
      "Layer (type)                 Output Shape              Param #   \n",
      "=================================================================\n",
      "input_4 (InputLayer)         [(None, 224, 224, 3)]     0         \n",
      "_________________________________________________________________\n",
      "conv2d_1 (Conv2D)            (None, 224, 224, 3)       84        \n",
      "_________________________________________________________________\n",
      "densenet121 (Functional)     (None, None, None, 1024)  7037504   \n",
      "_________________________________________________________________\n",
      "global_average_pooling2d_1 ( (None, 1024)              0         \n",
      "_________________________________________________________________\n",
      "batch_normalization_2 (Batch (None, 1024)              4096      \n",
      "_________________________________________________________________\n",
      "dropout_1 (Dropout)          (None, 1024)              0         \n",
      "_________________________________________________________________\n",
      "flatten_1 (Flatten)          (None, 1024)              0         \n",
      "_________________________________________________________________\n",
      "dense_2 (Dense)              (None, 64)                65600     \n",
      "_________________________________________________________________\n",
      "batch_normalization_3 (Batch (None, 64)                256       \n",
      "_________________________________________________________________\n",
      "dense_3 (Dense)              (None, 2)                 130       \n",
      "=================================================================\n",
      "Total params: 7,107,670\n",
      "Trainable params: 67,990\n",
      "Non-trainable params: 7,039,680\n",
      "_________________________________________________________________\n",
      "('You must install pydot (`pip install pydot`) and install graphviz (see instructions at https://graphviz.gitlab.io/download/) ', 'for plot_model/model_to_dot to work.')\n"
     ]
    }
   ],
   "source": [
    "channels = 3\n",
    "\n",
    "model = buildModel(imageSize, channels)\n",
    "annealer = ReduceLROnPlateau(monitor = 'val_accuracy', factor = 0.70, patience = 5, verbose = 1, min_lr = 1e-4)\n",
    "checkpoint = ModelCheckpoint('./SavedModels/Pretrained_DenseNet121/DenseNet121_BestModel.h5', verbose = 1, save_best_only = True)\n",
    "\n",
    "# Generates batches of image data with data augmentation\n",
    "datagen = ImageDataGenerator(rotation_range = 360, width_shift_range = 0.2, height_shift_range = 0.2, zoom_range = 0.2, horizontal_flip = True, vertical_flip = True)\n",
    "datagen.fit(xtrain)\n",
    "\n",
    "plot_model(model, to_file = './Plot_Images/Model_Architecture.png', show_shapes = True, show_layer_names = True)"
   ]
  },
  {
   "cell_type": "markdown",
   "metadata": {},
   "source": [
    "### Training the Dataset with the created Model"
   ]
  },
  {
   "cell_type": "code",
   "execution_count": 30,
   "metadata": {
    "tags": []
   },
   "outputs": [
    {
     "name": "stdout",
     "output_type": "stream",
     "text": [
      "Epoch 1/30\n",
      "31/31 [==============================] - 29s 745ms/step - loss: 0.8783 - accuracy: 0.5914 - val_loss: 0.7061 - val_accuracy: 0.5513\n",
      "\n",
      "Epoch 00001: val_loss improved from inf to 0.70615, saving model to ./SavedModels/Pretrained_DenseNet121/DenseNet121_BestModel.h5\n",
      "Epoch 2/30\n",
      "31/31 [==============================] - 21s 655ms/step - loss: 0.7295 - accuracy: 0.6523 - val_loss: 0.6264 - val_accuracy: 0.6298\n",
      "\n",
      "Epoch 00002: val_loss improved from 0.70615 to 0.62636, saving model to ./SavedModels/Pretrained_DenseNet121/DenseNet121_BestModel.h5\n",
      "Epoch 3/30\n",
      "31/31 [==============================] - 20s 642ms/step - loss: 0.6342 - accuracy: 0.7048 - val_loss: 0.5961 - val_accuracy: 0.6539\n",
      "\n",
      "Epoch 00003: val_loss improved from 0.62636 to 0.59610, saving model to ./SavedModels/Pretrained_DenseNet121/DenseNet121_BestModel.h5\n",
      "Epoch 4/30\n",
      "31/31 [==============================] - 21s 650ms/step - loss: 0.5799 - accuracy: 0.7199 - val_loss: 0.5842 - val_accuracy: 0.6781\n",
      "\n",
      "Epoch 00004: val_loss improved from 0.59610 to 0.58424, saving model to ./SavedModels/Pretrained_DenseNet121/DenseNet121_BestModel.h5\n",
      "Epoch 5/30\n",
      "31/31 [==============================] - 21s 654ms/step - loss: 0.5413 - accuracy: 0.7486 - val_loss: 0.5567 - val_accuracy: 0.7002\n",
      "\n",
      "Epoch 00005: val_loss improved from 0.58424 to 0.55673, saving model to ./SavedModels/Pretrained_DenseNet121/DenseNet121_BestModel.h5\n",
      "Epoch 6/30\n",
      "31/31 [==============================] - 21s 656ms/step - loss: 0.5311 - accuracy: 0.7454 - val_loss: 0.5267 - val_accuracy: 0.7143\n",
      "\n",
      "Epoch 00006: val_loss improved from 0.55673 to 0.52666, saving model to ./SavedModels/Pretrained_DenseNet121/DenseNet121_BestModel.h5\n",
      "Epoch 7/30\n",
      "31/31 [==============================] - 21s 663ms/step - loss: 0.4811 - accuracy: 0.7668 - val_loss: 0.4793 - val_accuracy: 0.7565\n",
      "\n",
      "Epoch 00007: val_loss improved from 0.52666 to 0.47932, saving model to ./SavedModels/Pretrained_DenseNet121/DenseNet121_BestModel.h5\n",
      "Epoch 8/30\n",
      "31/31 [==============================] - 21s 655ms/step - loss: 0.4737 - accuracy: 0.7840 - val_loss: 0.4781 - val_accuracy: 0.7525\n",
      "\n",
      "Epoch 00008: val_loss improved from 0.47932 to 0.47812, saving model to ./SavedModels/Pretrained_DenseNet121/DenseNet121_BestModel.h5\n",
      "Epoch 9/30\n",
      "31/31 [==============================] - 21s 659ms/step - loss: 0.4564 - accuracy: 0.7965 - val_loss: 0.4510 - val_accuracy: 0.7686\n",
      "\n",
      "Epoch 00009: val_loss improved from 0.47812 to 0.45105, saving model to ./SavedModels/Pretrained_DenseNet121/DenseNet121_BestModel.h5\n",
      "Epoch 10/30\n",
      "31/31 [==============================] - 20s 680ms/step - loss: 0.4536 - accuracy: 0.7944 - val_loss: 0.4558 - val_accuracy: 0.7767\n",
      "\n",
      "Epoch 00010: val_loss did not improve from 0.45105\n",
      "Epoch 11/30\n",
      "31/31 [==============================] - 21s 666ms/step - loss: 0.4377 - accuracy: 0.7939 - val_loss: 0.4488 - val_accuracy: 0.7887\n",
      "\n",
      "Epoch 00011: val_loss improved from 0.45105 to 0.44880, saving model to ./SavedModels/Pretrained_DenseNet121/DenseNet121_BestModel.h5\n",
      "Epoch 12/30\n",
      "31/31 [==============================] - 21s 652ms/step - loss: 0.4330 - accuracy: 0.8079 - val_loss: 0.4281 - val_accuracy: 0.7968\n",
      "\n",
      "Epoch 00012: val_loss improved from 0.44880 to 0.42811, saving model to ./SavedModels/Pretrained_DenseNet121/DenseNet121_BestModel.h5\n",
      "Epoch 13/30\n",
      "31/31 [==============================] - 21s 668ms/step - loss: 0.4136 - accuracy: 0.8110 - val_loss: 0.4449 - val_accuracy: 0.7867\n",
      "\n",
      "Epoch 00013: val_loss did not improve from 0.42811\n",
      "Epoch 14/30\n",
      "31/31 [==============================] - 21s 672ms/step - loss: 0.4261 - accuracy: 0.8069 - val_loss: 0.4055 - val_accuracy: 0.8109\n",
      "\n",
      "Epoch 00014: val_loss improved from 0.42811 to 0.40552, saving model to ./SavedModels/Pretrained_DenseNet121/DenseNet121_BestModel.h5\n",
      "Epoch 15/30\n",
      "31/31 [==============================] - 21s 662ms/step - loss: 0.4059 - accuracy: 0.8168 - val_loss: 0.4018 - val_accuracy: 0.8048\n",
      "\n",
      "Epoch 00015: val_loss improved from 0.40552 to 0.40177, saving model to ./SavedModels/Pretrained_DenseNet121/DenseNet121_BestModel.h5\n",
      "Epoch 16/30\n",
      "31/31 [==============================] - 21s 663ms/step - loss: 0.3949 - accuracy: 0.8162 - val_loss: 0.3668 - val_accuracy: 0.8209\n",
      "\n",
      "Epoch 00016: val_loss improved from 0.40177 to 0.36682, saving model to ./SavedModels/Pretrained_DenseNet121/DenseNet121_BestModel.h5\n",
      "Epoch 17/30\n",
      "31/31 [==============================] - 21s 667ms/step - loss: 0.3985 - accuracy: 0.8188 - val_loss: 0.4282 - val_accuracy: 0.7928\n",
      "\n",
      "Epoch 00017: val_loss did not improve from 0.36682\n",
      "Epoch 18/30\n",
      "31/31 [==============================] - 21s 663ms/step - loss: 0.3942 - accuracy: 0.8287 - val_loss: 0.4651 - val_accuracy: 0.7928\n",
      "\n",
      "Epoch 00018: val_loss did not improve from 0.36682\n",
      "Epoch 19/30\n",
      "31/31 [==============================] - 21s 666ms/step - loss: 0.3675 - accuracy: 0.8490 - val_loss: 0.4417 - val_accuracy: 0.7867\n",
      "\n",
      "Epoch 00019: val_loss did not improve from 0.36682\n",
      "Epoch 20/30\n",
      "31/31 [==============================] - 21s 670ms/step - loss: 0.3842 - accuracy: 0.8267 - val_loss: 0.3899 - val_accuracy: 0.8089\n",
      "\n",
      "Epoch 00020: val_loss did not improve from 0.36682\n",
      "Epoch 21/30\n",
      "31/31 [==============================] - 21s 664ms/step - loss: 0.3646 - accuracy: 0.8360 - val_loss: 0.4409 - val_accuracy: 0.7887\n",
      "\n",
      "Epoch 00021: ReduceLROnPlateau reducing learning rate to 0.002100000018253922.\n",
      "\n",
      "Epoch 00021: val_loss did not improve from 0.36682\n",
      "Epoch 22/30\n",
      "31/31 [==============================] - 21s 665ms/step - loss: 0.3602 - accuracy: 0.8386 - val_loss: 0.3683 - val_accuracy: 0.8229\n",
      "\n",
      "Epoch 00022: val_loss did not improve from 0.36682\n",
      "Epoch 23/30\n",
      "31/31 [==============================] - 21s 667ms/step - loss: 0.3716 - accuracy: 0.8256 - val_loss: 0.3887 - val_accuracy: 0.8089\n",
      "\n",
      "Epoch 00023: val_loss did not improve from 0.36682\n",
      "Epoch 24/30\n",
      "31/31 [==============================] - 21s 666ms/step - loss: 0.3652 - accuracy: 0.8397 - val_loss: 0.4302 - val_accuracy: 0.7968\n",
      "\n",
      "Epoch 00024: val_loss did not improve from 0.36682\n",
      "Epoch 25/30\n",
      "31/31 [==============================] - 21s 672ms/step - loss: 0.3489 - accuracy: 0.8423 - val_loss: 0.3803 - val_accuracy: 0.8169\n",
      "\n",
      "Epoch 00025: val_loss did not improve from 0.36682\n",
      "Epoch 26/30\n",
      "31/31 [==============================] - 21s 666ms/step - loss: 0.3662 - accuracy: 0.8412 - val_loss: 0.4064 - val_accuracy: 0.8089\n",
      "\n",
      "Epoch 00026: val_loss did not improve from 0.36682\n",
      "Epoch 27/30\n",
      "31/31 [==============================] - 21s 669ms/step - loss: 0.3675 - accuracy: 0.8350 - val_loss: 0.4052 - val_accuracy: 0.8068\n",
      "\n",
      "Epoch 00027: ReduceLROnPlateau reducing learning rate to 0.0014699999475851653.\n",
      "\n",
      "Epoch 00027: val_loss did not improve from 0.36682\n",
      "Epoch 28/30\n",
      "31/31 [==============================] - 21s 668ms/step - loss: 0.3437 - accuracy: 0.8480 - val_loss: 0.3760 - val_accuracy: 0.8290\n",
      "\n",
      "Epoch 00028: val_loss did not improve from 0.36682\n",
      "Epoch 29/30\n",
      "31/31 [==============================] - 21s 668ms/step - loss: 0.3509 - accuracy: 0.8548 - val_loss: 0.3895 - val_accuracy: 0.8209\n",
      "\n",
      "Epoch 00029: val_loss did not improve from 0.36682\n",
      "Epoch 30/30\n",
      "31/31 [==============================] - 21s 665ms/step - loss: 0.3599 - accuracy: 0.8438 - val_loss: 0.3766 - val_accuracy: 0.8229\n",
      "\n",
      "Epoch 00030: val_loss did not improve from 0.36682\n"
     ]
    }
   ],
   "source": [
    "BATCH_SIZE = 64\n",
    "EPOCHS = 30\n",
    "\n",
    "hist = model.fit(datagen.flow(xtrain, ytrain, batch_size = BATCH_SIZE),\n",
    "               steps_per_epoch = xtrain.shape[0] // BATCH_SIZE,\n",
    "               epochs = EPOCHS,\n",
    "               verbose = 1,\n",
    "               callbacks = [annealer, checkpoint],\n",
    "               validation_data = (xtest, ytest))"
   ]
  },
  {
   "cell_type": "code",
   "execution_count": 31,
   "metadata": {
    "tags": []
   },
   "outputs": [
    {
     "name": "stdout",
     "output_type": "stream",
     "text": [
      "16/16 [==============================] - 3s 93ms/step - loss: 0.3668 - accuracy: 0.8209\n",
      "Final Loss: 0.37, Final Accuracy: 0.82\n"
     ]
    }
   ],
   "source": [
    "model = load_model('./SavedModels/Pretrained_DenseNet121/DenseNet121_BestModel.h5')\n",
    "final_loss, final_accuracy = model.evaluate(xtest, ytest)\n",
    "print('Final Loss: {:.2f}, Final Accuracy: {:.2f}'.format(final_loss, final_accuracy))"
   ]
  },
  {
   "cell_type": "code",
   "execution_count": 32,
   "metadata": {
    "tags": []
   },
   "outputs": [
    {
     "name": "stdout",
     "output_type": "stream",
     "text": [
      "[[236  53]\n",
      " [ 36 172]]\n"
     ]
    },
    {
     "data": {
      "image/png": "[encoded data removed]",
      "text/plain": [
       "<Figure size 432x288 with 2 Axes>"
      ]
     },
     "metadata": {
      "needs_background": "light"
     },
     "output_type": "display_data"
    }
   ],
   "source": [
    "from sklearn.metrics import confusion_matrix, ConfusionMatrixDisplay\n",
    "\n",
    "ypred = model.predict(xtest)\n",
    "ypred = np.argmax(ypred, axis = 1)\n",
    "ytest = np.argmax(ytest, axis = 1)\n",
    "cm = confusion_matrix(ypred, ytest)\n",
    "print(cm)\n",
    "cmDisplay = ConfusionMatrixDisplay(cm).plot()"
   ]
  },
  {
   "cell_type": "code",
   "execution_count": 33,
   "metadata": {
    "tags": []
   },
   "outputs": [],
   "source": [
    "from sklearn.metrics import precision_score, recall_score, f1_score, accuracy_score\n",
    "\n",
    "yhat_probs = model.predict(xtest, verbose = 0)\n",
    "yhat_probs = yhat_probs[:, 0]"
   ]
  },
  {
   "cell_type": "code",
   "execution_count": 34,
   "metadata": {},
   "outputs": [
    {
     "name": "stdout",
     "output_type": "stream",
     "text": [
      "Accuracy: 0.82\n",
      "Precision: 0.76\n"
     ]
    }
   ],
   "source": [
    "accuracy = accuracy_score(ypred, ytest)\n",
    "print(\"Accuracy: {:.2f}\".format(accuracy))\n",
    "\n",
    "precision = precision_score(ypred, ytest)\n",
    "print(\"Precision: {:.2f}\".format(precision))"
   ]
  },
  {
   "cell_type": "code",
   "execution_count": 35,
   "metadata": {},
   "outputs": [
    {
     "name": "stdout",
     "output_type": "stream",
     "text": [
      "Recall: 0.83\n",
      "F1 Score: 0.79\n"
     ]
    }
   ],
   "source": [
    "recall = recall_score(ypred, ytest)\n",
    "print(\"Recall: {:.2f}\".format(recall))\n",
    "\n",
    "f1 = f1_score(ypred, ytest)\n",
    "print(\"F1 Score: {:.2f}\".format(f1))"
   ]
  },
  {
   "cell_type": "code",
   "execution_count": 36,
   "metadata": {
    "tags": []
   },
   "outputs": [
    {
     "name": "stdout",
     "output_type": "stream",
     "text": [
      "[0.88264734 0.11735266]\n"
     ]
    }
   ],
   "source": [
    "img_file_name = dataDir + '/COVID/Covid (634).png'\n",
    "img = load_img(img_file_name, grayscale=False, target_size=(224, 224))\n",
    "disease_class=['Covid-19','Non Covid-19']\n",
    "x = img_to_array(img)\n",
    "x = np.expand_dims(x, axis = 0)\n",
    "x /= 255\n",
    "\n",
    "custom = model.predict(x)\n",
    "print(custom[0])"
   ]
  }
 ],
 "metadata": {
  "availableInstances": [
   {
    "_defaultOrder": 0,
    "_isFastLaunch": true,
    "category": "General purpose",
    "gpuNum": 0,
    "hideHardwareSpecs": false,
    "memoryGiB": 4,
    "name": "ml.t3.medium",
    "vcpuNum": 2
   },
   {
    "_defaultOrder": 1,
    "_isFastLaunch": false,
    "category": "General purpose",
    "gpuNum": 0,
    "hideHardwareSpecs": false,
    "memoryGiB": 8,
    "name": "ml.t3.large",
    "vcpuNum": 2
   },
   {
    "_defaultOrder": 2,
    "_isFastLaunch": false,
    "category": "General purpose",
    "gpuNum": 0,
    "hideHardwareSpecs": false,
    "memoryGiB": 16,
    "name": "ml.t3.xlarge",
    "vcpuNum": 4
   },
   {
    "_defaultOrder": 3,
    "_isFastLaunch": false,
    "category": "General purpose",
    "gpuNum": 0,
    "hideHardwareSpecs": false,
    "memoryGiB": 32,
    "name": "ml.t3.2xlarge",
    "vcpuNum": 8
   },
   {
    "_defaultOrder": 4,
    "_isFastLaunch": true,
    "category": "General purpose",
    "gpuNum": 0,
    "hideHardwareSpecs": false,
    "memoryGiB": 8,
    "name": "ml.m5.large",
    "vcpuNum": 2
   },
   {
    "_defaultOrder": 5,
    "_isFastLaunch": false,
    "category": "General purpose",
    "gpuNum": 0,
    "hideHardwareSpecs": false,
    "memoryGiB": 16,
    "name": "ml.m5.xlarge",
    "vcpuNum": 4
   },
   {
    "_defaultOrder": 6,
    "_isFastLaunch": false,
    "category": "General purpose",
    "gpuNum": 0,
    "hideHardwareSpecs": false,
    "memoryGiB": 32,
    "name": "ml.m5.2xlarge",
    "vcpuNum": 8
   },
   {
    "_defaultOrder": 7,
    "_isFastLaunch": false,
    "category": "General purpose",
    "gpuNum": 0,
    "hideHardwareSpecs": false,
    "memoryGiB": 64,
    "name": "ml.m5.4xlarge",
    "vcpuNum": 16
   },
   {
    "_defaultOrder": 8,
    "_isFastLaunch": false,
    "category": "General purpose",
    "gpuNum": 0,
    "hideHardwareSpecs": false,
    "memoryGiB": 128,
    "name": "ml.m5.8xlarge",
    "vcpuNum": 32
   },
   {
    "_defaultOrder": 9,
    "_isFastLaunch": false,
    "category": "General purpose",
    "gpuNum": 0,
    "hideHardwareSpecs": false,
    "memoryGiB": 192,
    "name": "ml.m5.12xlarge",
    "vcpuNum": 48
   },
   {
    "_defaultOrder": 10,
    "_isFastLaunch": false,
    "category": "General purpose",
    "gpuNum": 0,
    "hideHardwareSpecs": false,
    "memoryGiB": 256,
    "name": "ml.m5.16xlarge",
    "vcpuNum": 64
   },
   {
    "_defaultOrder": 11,
    "_isFastLaunch": false,
    "category": "General purpose",
    "gpuNum": 0,
    "hideHardwareSpecs": false,
    "memoryGiB": 384,
    "name": "ml.m5.24xlarge",
    "vcpuNum": 96
   },
   {
    "_defaultOrder": 12,
    "_isFastLaunch": false,
    "category": "General purpose",
    "gpuNum": 0,
    "hideHardwareSpecs": false,
    "memoryGiB": 8,
    "name": "ml.m5d.large",
    "vcpuNum": 2
   },
   {
    "_defaultOrder": 13,
    "_isFastLaunch": false,
    "category": "General purpose",
    "gpuNum": 0,
    "hideHardwareSpecs": false,
    "memoryGiB": 16,
    "name": "ml.m5d.xlarge",
    "vcpuNum": 4
   },
   {
    "_defaultOrder": 14,
    "_isFastLaunch": false,
    "category": "General purpose",
    "gpuNum": 0,
    "hideHardwareSpecs": false,
    "memoryGiB": 32,
    "name": "ml.m5d.2xlarge",
    "vcpuNum": 8
   },
   {
    "_defaultOrder": 15,
    "_isFastLaunch": false,
    "category": "General purpose",
    "gpuNum": 0,
    "hideHardwareSpecs": false,
    "memoryGiB": 64,
    "name": "ml.m5d.4xlarge",
    "vcpuNum": 16
   },
   {
    "_defaultOrder": 16,
    "_isFastLaunch": false,
    "category": "General purpose",
    "gpuNum": 0,
    "hideHardwareSpecs": false,
    "memoryGiB": 128,
    "name": "ml.m5d.8xlarge",
    "vcpuNum": 32
   },
   {
    "_defaultOrder": 17,
    "_isFastLaunch": false,
    "category": "General purpose",
    "gpuNum": 0,
    "hideHardwareSpecs": false,
    "memoryGiB": 192,
    "name": "ml.m5d.12xlarge",
    "vcpuNum": 48
   },
   {
    "_defaultOrder": 18,
    "_isFastLaunch": false,
    "category": "General purpose",
    "gpuNum": 0,
    "hideHardwareSpecs": false,
    "memoryGiB": 256,
    "name": "ml.m5d.16xlarge",
    "vcpuNum": 64
   },
   {
    "_defaultOrder": 19,
    "_isFastLaunch": false,
    "category": "General purpose",
    "gpuNum": 0,
    "hideHardwareSpecs": false,
    "memoryGiB": 384,
    "name": "ml.m5d.24xlarge",
    "vcpuNum": 96
   },
   {
    "_defaultOrder": 20,
    "_isFastLaunch": false,
    "category": "General purpose",
    "gpuNum": 0,
    "hideHardwareSpecs": true,
    "memoryGiB": 0,
    "name": "ml.geospatial.interactive",
    "supportedImageNames": [
     "sagemaker-geospatial-v1-0"
    ],
    "vcpuNum": 0
   },
   {
    "_defaultOrder": 21,
    "_isFastLaunch": true,
    "category": "Compute optimized",
    "gpuNum": 0,
    "hideHardwareSpecs": false,
    "memoryGiB": 4,
    "name": "ml.c5.large",
    "vcpuNum": 2
   },
   {
    "_defaultOrder": 22,
    "_isFastLaunch": false,
    "category": "Compute optimized",
    "gpuNum": 0,
    "hideHardwareSpecs": false,
    "memoryGiB": 8,
    "name": "ml.c5.xlarge",
    "vcpuNum": 4
   },
   {
    "_defaultOrder": 23,
    "_isFastLaunch": false,
    "category": "Compute optimized",
    "gpuNum": 0,
    "hideHardwareSpecs": false,
    "memoryGiB": 16,
    "name": "ml.c5.2xlarge",
    "vcpuNum": 8
   },
   {
    "_defaultOrder": 24,
    "_isFastLaunch": false,
    "category": "Compute optimized",
    "gpuNum": 0,
    "hideHardwareSpecs": false,
    "memoryGiB": 32,
    "name": "ml.c5.4xlarge",
    "vcpuNum": 16
   },
   {
    "_defaultOrder": 25,
    "_isFastLaunch": false,
    "category": "Compute optimized",
    "gpuNum": 0,
    "hideHardwareSpecs": false,
    "memoryGiB": 72,
    "name": "ml.c5.9xlarge",
    "vcpuNum": 36
   },
   {
    "_defaultOrder": 26,
    "_isFastLaunch": false,
    "category": "Compute optimized",
    "gpuNum": 0,
    "hideHardwareSpecs": false,
    "memoryGiB": 96,
    "name": "ml.c5.12xlarge",
    "vcpuNum": 48
   },
   {
    "_defaultOrder": 27,
    "_isFastLaunch": false,
    "category": "Compute optimized",
    "gpuNum": 0,
    "hideHardwareSpecs": false,
    "memoryGiB": 144,
    "name": "ml.c5.18xlarge",
    "vcpuNum": 72
   },
   {
    "_defaultOrder": 28,
    "_isFastLaunch": false,
    "category": "Compute optimized",
    "gpuNum": 0,
    "hideHardwareSpecs": false,
    "memoryGiB": 192,
    "name": "ml.c5.24xlarge",
    "vcpuNum": 96
   },
   {
    "_defaultOrder": 29,
    "_isFastLaunch": true,
    "category": "Accelerated computing",
    "gpuNum": 1,
    "hideHardwareSpecs": false,
    "memoryGiB": 16,
    "name": "ml.g4dn.xlarge",
    "vcpuNum": 4
   },
   {
    "_defaultOrder": 30,
    "_isFastLaunch": false,
    "category": "Accelerated computing",
    "gpuNum": 1,
    "hideHardwareSpecs": false,
    "memoryGiB": 32,
    "name": "ml.g4dn.2xlarge",
    "vcpuNum": 8
   },
   {
    "_defaultOrder": 31,
    "_isFastLaunch": false,
    "category": "Accelerated computing",
    "gpuNum": 1,
    "hideHardwareSpecs": false,
    "memoryGiB": 64,
    "name": "ml.g4dn.4xlarge",
    "vcpuNum": 16
   },
   {
    "_defaultOrder": 32,
    "_isFastLaunch": false,
    "category": "Accelerated computing",
    "gpuNum": 1,
    "hideHardwareSpecs": false,
    "memoryGiB": 128,
    "name": "ml.g4dn.8xlarge",
    "vcpuNum": 32
   },
   {
    "_defaultOrder": 33,
    "_isFastLaunch": false,
    "category": "Accelerated computing",
    "gpuNum": 4,
    "hideHardwareSpecs": false,
    "memoryGiB": 192,
    "name": "ml.g4dn.12xlarge",
    "vcpuNum": 48
   },
   {
    "_defaultOrder": 34,
    "_isFastLaunch": false,
    "category": "Accelerated computing",
    "gpuNum": 1,
    "hideHardwareSpecs": false,
    "memoryGiB": 256,
    "name": "ml.g4dn.16xlarge",
    "vcpuNum": 64
   },
   {
    "_defaultOrder": 35,
    "_isFastLaunch": false,
    "category": "Accelerated computing",
    "gpuNum": 1,
    "hideHardwareSpecs": false,
    "memoryGiB": 61,
    "name": "ml.p3.2xlarge",
    "vcpuNum": 8
   },
   {
    "_defaultOrder": 36,
    "_isFastLaunch": false,
    "category": "Accelerated computing",
    "gpuNum": 4,
    "hideHardwareSpecs": false,
    "memoryGiB": 244,
    "name": "ml.p3.8xlarge",
    "vcpuNum": 32
   },
   {
    "_defaultOrder": 37,
    "_isFastLaunch": false,
    "category": "Accelerated computing",
    "gpuNum": 8,
    "hideHardwareSpecs": false,
    "memoryGiB": 488,
    "name": "ml.p3.16xlarge",
    "vcpuNum": 64
   },
   {
    "_defaultOrder": 38,
    "_isFastLaunch": false,
    "category": "Accelerated computing",
    "gpuNum": 8,
    "hideHardwareSpecs": false,
    "memoryGiB": 768,
    "name": "ml.p3dn.24xlarge",
    "vcpuNum": 96
   },
   {
    "_defaultOrder": 39,
    "_isFastLaunch": false,
    "category": "Memory Optimized",
    "gpuNum": 0,
    "hideHardwareSpecs": false,
    "memoryGiB": 16,
    "name": "ml.r5.large",
    "vcpuNum": 2
   },
   {
    "_defaultOrder": 40,
    "_isFastLaunch": false,
    "category": "Memory Optimized",
    "gpuNum": 0,
    "hideHardwareSpecs": false,
    "memoryGiB": 32,
    "name": "ml.r5.xlarge",
    "vcpuNum": 4
   },
   {
    "_defaultOrder": 41,
    "_isFastLaunch": false,
    "category": "Memory Optimized",
    "gpuNum": 0,
    "hideHardwareSpecs": false,
    "memoryGiB": 64,
    "name": "ml.r5.2xlarge",
    "vcpuNum": 8
   },
   {
    "_defaultOrder": 42,
    "_isFastLaunch": false,
    "category": "Memory Optimized",
    "gpuNum": 0,
    "hideHardwareSpecs": false,
    "memoryGiB": 128,
    "name": "ml.r5.4xlarge",
    "vcpuNum": 16
   },
   {
    "_defaultOrder": 43,
    "_isFastLaunch": false,
    "category": "Memory Optimized",
    "gpuNum": 0,
    "hideHardwareSpecs": false,
    "memoryGiB": 256,
    "name": "ml.r5.8xlarge",
    "vcpuNum": 32
   },
   {
    "_defaultOrder": 44,
    "_isFastLaunch": false,
    "category": "Memory Optimized",
    "gpuNum": 0,
    "hideHardwareSpecs": false,
    "memoryGiB": 384,
    "name": "ml.r5.12xlarge",
    "vcpuNum": 48
   },
   {
    "_defaultOrder": 45,
    "_isFastLaunch": false,
    "category": "Memory Optimized",
    "gpuNum": 0,
    "hideHardwareSpecs": false,
    "memoryGiB": 512,
    "name": "ml.r5.16xlarge",
    "vcpuNum": 64
   },
   {
    "_defaultOrder": 46,
    "_isFastLaunch": false,
    "category": "Memory Optimized",
    "gpuNum": 0,
    "hideHardwareSpecs": false,
    "memoryGiB": 768,
    "name": "ml.r5.24xlarge",
    "vcpuNum": 96
   },
   {
    "_defaultOrder": 47,
    "_isFastLaunch": false,
    "category": "Accelerated computing",
    "gpuNum": 1,
    "hideHardwareSpecs": false,
    "memoryGiB": 16,
    "name": "ml.g5.xlarge",
    "vcpuNum": 4
   },
   {
    "_defaultOrder": 48,
    "_isFastLaunch": false,
    "category": "Accelerated computing",
    "gpuNum": 1,
    "hideHardwareSpecs": false,
    "memoryGiB": 32,
    "name": "ml.g5.2xlarge",
    "vcpuNum": 8
   },
   {
    "_defaultOrder": 49,
    "_isFastLaunch": false,
    "category": "Accelerated computing",
    "gpuNum": 1,
    "hideHardwareSpecs": false,
    "memoryGiB": 64,
    "name": "ml.g5.4xlarge",
    "vcpuNum": 16
   },
   {
    "_defaultOrder": 50,
    "_isFastLaunch": false,
    "category": "Accelerated computing",
    "gpuNum": 1,
    "hideHardwareSpecs": false,
    "memoryGiB": 128,
    "name": "ml.g5.8xlarge",
    "vcpuNum": 32
   },
   {
    "_defaultOrder": 51,
    "_isFastLaunch": false,
    "category": "Accelerated computing",
    "gpuNum": 1,
    "hideHardwareSpecs": false,
    "memoryGiB": 256,
    "name": "ml.g5.16xlarge",
    "vcpuNum": 64
   },
   {
    "_defaultOrder": 52,
    "_isFastLaunch": false,
    "category": "Accelerated computing",
    "gpuNum": 4,
    "hideHardwareSpecs": false,
    "memoryGiB": 192,
    "name": "ml.g5.12xlarge",
    "vcpuNum": 48
   },
   {
    "_defaultOrder": 53,
    "_isFastLaunch": false,
    "category": "Accelerated computing",
    "gpuNum": 4,
    "hideHardwareSpecs": false,
    "memoryGiB": 384,
    "name": "ml.g5.24xlarge",
    "vcpuNum": 96
   },
   {
    "_defaultOrder": 54,
    "_isFastLaunch": false,
    "category": "Accelerated computing",
    "gpuNum": 8,
    "hideHardwareSpecs": false,
    "memoryGiB": 768,
    "name": "ml.g5.48xlarge",
    "vcpuNum": 192
   }
  ],
  "instance_type": "ml.g4dn.2xlarge",
  "kernelspec": {
   "display_name": "Python 3 (TensorFlow 2.6 Python 3.8 GPU Optimized)",
   "language": "python",
   "name": "python3__SAGEMAKER_INTERNAL__arn:aws:sagemaker:ap-south-1:394103062818:image/tensorflow-2.6-gpu-py38-cu112-ubuntu20.04-v1"
  },
  "language_info": {
   "codemirror_mode": {
    "name": "ipython",
    "version": 3
   },
   "file_extension": ".py",
   "mimetype": "text/x-python",
   "name": "python",
   "nbconvert_exporter": "python",
   "pygments_lexer": "ipython3",
   "version": "3.8.2"
  }
 },
 "nbformat": 4,
 "nbformat_minor": 4
}

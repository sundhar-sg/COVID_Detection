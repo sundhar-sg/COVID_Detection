{
 "cells": [
  {
   "cell_type": "markdown",
   "metadata": {},
   "source": [
    "### Initializing the Sagemaker Instance and its Session"
   ]
  },
  {
   "cell_type": "code",
   "execution_count": null,
   "metadata": {
    "tags": []
   },
   "outputs": [],
   "source": [
    "!pip install sagemaker ipywidgets --upgrade --quiet"
   ]
  },
  {
   "cell_type": "code",
   "execution_count": null,
   "metadata": {
    "tags": []
   },
   "outputs": [],
   "source": [
    "import sagemaker, boto3, json\n",
    "from sagemaker.session import Session\n",
    "\n",
    "sagemaker_session = Session()\n",
    "aws_role = sagemaker_session.get_caller_identity_arn()\n",
    "aws_region = boto3.Session().region_name\n",
    "sess = sagemaker.Session()"
   ]
  },
  {
   "cell_type": "markdown",
   "metadata": {},
   "source": [
    "### Importing the Necessary Libraries"
   ]
  },
  {
   "cell_type": "code",
   "execution_count": 3,
   "metadata": {
    "tags": []
   },
   "outputs": [],
   "source": [
    "import numpy as np\n",
    "import pandas as pd\n",
    "import matplotlib.pyplot as plt\n",
    "import seaborn as sns\n",
    "import tensorflow as tf\n",
    "\n",
    "import os\n",
    "import cv2\n",
    "\n",
    "from sklearn.model_selection import train_test_split\n",
    "from sklearn.metrics import confusion_matrix\n",
    "from keras.utils.np_utils import to_categorical\n",
    "from keras.models import Model, load_model\n",
    "from keras import Input\n",
    "from keras.layers import Conv2D, Dense, BatchNormalization, Flatten,  Dropout, GlobalAveragePooling2D\n",
    "from keras.preprocessing.image import ImageDataGenerator, load_img, img_to_array\n",
    "from keras.callbacks import ReduceLROnPlateau, ModelCheckpoint\n",
    "from tensorflow.keras.optimizers import Adam\n",
    "from tensorflow.keras.applications import DenseNet121\n",
    "from tensorflow.keras.utils import plot_model"
   ]
  },
  {
   "cell_type": "markdown",
   "metadata": {},
   "source": [
    "### Importing the Dataset for Preprocessing and Model"
   ]
  },
  {
   "cell_type": "code",
   "execution_count": 4,
   "metadata": {
    "tags": []
   },
   "outputs": [
    {
     "data": {
      "text/html": [
       "<div>\n",
       "<style scoped>\n",
       "    .dataframe tbody tr th:only-of-type {\n",
       "        vertical-align: middle;\n",
       "    }\n",
       "\n",
       "    .dataframe tbody tr th {\n",
       "        vertical-align: top;\n",
       "    }\n",
       "\n",
       "    .dataframe thead th {\n",
       "        text-align: right;\n",
       "    }\n",
       "</style>\n",
       "<table border=\"1\" class=\"dataframe\">\n",
       "  <thead>\n",
       "    <tr style=\"text-align: right;\">\n",
       "      <th></th>\n",
       "      <th>File</th>\n",
       "      <th>ID</th>\n",
       "      <th>Disease Type</th>\n",
       "    </tr>\n",
       "  </thead>\n",
       "  <tbody>\n",
       "    <tr>\n",
       "      <th>0</th>\n",
       "      <td>COVID/Covid (340).png</td>\n",
       "      <td>0</td>\n",
       "      <td>COVID</td>\n",
       "    </tr>\n",
       "    <tr>\n",
       "      <th>1</th>\n",
       "      <td>COVID/Covid (896).png</td>\n",
       "      <td>0</td>\n",
       "      <td>COVID</td>\n",
       "    </tr>\n",
       "    <tr>\n",
       "      <th>2</th>\n",
       "      <td>COVID/Covid (1231).png</td>\n",
       "      <td>0</td>\n",
       "      <td>COVID</td>\n",
       "    </tr>\n",
       "    <tr>\n",
       "      <th>3</th>\n",
       "      <td>COVID/Covid (502).png</td>\n",
       "      <td>0</td>\n",
       "      <td>COVID</td>\n",
       "    </tr>\n",
       "    <tr>\n",
       "      <th>4</th>\n",
       "      <td>COVID/Covid (1150).png</td>\n",
       "      <td>0</td>\n",
       "      <td>COVID</td>\n",
       "    </tr>\n",
       "    <tr>\n",
       "      <th>...</th>\n",
       "      <td>...</td>\n",
       "      <td>...</td>\n",
       "      <td>...</td>\n",
       "    </tr>\n",
       "    <tr>\n",
       "      <th>2476</th>\n",
       "      <td>non-COVID/Non-Covid (671).png</td>\n",
       "      <td>1</td>\n",
       "      <td>non-COVID</td>\n",
       "    </tr>\n",
       "    <tr>\n",
       "      <th>2477</th>\n",
       "      <td>non-COVID/Non-Covid (914).png</td>\n",
       "      <td>1</td>\n",
       "      <td>non-COVID</td>\n",
       "    </tr>\n",
       "    <tr>\n",
       "      <th>2478</th>\n",
       "      <td>non-COVID/Non-Covid (590).png</td>\n",
       "      <td>1</td>\n",
       "      <td>non-COVID</td>\n",
       "    </tr>\n",
       "    <tr>\n",
       "      <th>2479</th>\n",
       "      <td>non-COVID/Non-Covid (1166).png</td>\n",
       "      <td>1</td>\n",
       "      <td>non-COVID</td>\n",
       "    </tr>\n",
       "    <tr>\n",
       "      <th>2480</th>\n",
       "      <td>non-COVID/Non-Covid (752).png</td>\n",
       "      <td>1</td>\n",
       "      <td>non-COVID</td>\n",
       "    </tr>\n",
       "  </tbody>\n",
       "</table>\n",
       "<p>2481 rows × 3 columns</p>\n",
       "</div>"
      ],
      "text/plain": [
       "                                File  ID Disease Type\n",
       "0              COVID/Covid (340).png   0        COVID\n",
       "1              COVID/Covid (896).png   0        COVID\n",
       "2             COVID/Covid (1231).png   0        COVID\n",
       "3              COVID/Covid (502).png   0        COVID\n",
       "4             COVID/Covid (1150).png   0        COVID\n",
       "...                              ...  ..          ...\n",
       "2476   non-COVID/Non-Covid (671).png   1    non-COVID\n",
       "2477   non-COVID/Non-Covid (914).png   1    non-COVID\n",
       "2478   non-COVID/Non-Covid (590).png   1    non-COVID\n",
       "2479  non-COVID/Non-Covid (1166).png   1    non-COVID\n",
       "2480   non-COVID/Non-Covid (752).png   1    non-COVID\n",
       "\n",
       "[2481 rows x 3 columns]"
      ]
     },
     "execution_count": 4,
     "metadata": {},
     "output_type": "execute_result"
    }
   ],
   "source": [
    "diseaseTypes = ['COVID', 'non-COVID']\n",
    "\n",
    "trainDir = dataDir = './Datasets/COVID_19_Chest_CT_1'\n",
    "trainData = []\n",
    "\n",
    "for index, sp in enumerate(diseaseTypes) :\n",
    "    for file in os.listdir(os.path.join(trainDir, sp)) :\n",
    "        trainData.append([sp + '/' + file, index, sp])\n",
    "\n",
    "trainDataset = pd.DataFrame(trainData, columns= ['File', 'ID', 'Disease Type'])\n",
    "trainDataset"
   ]
  },
  {
   "cell_type": "markdown",
   "metadata": {},
   "source": [
    "### Arranging the Dataset in a random order"
   ]
  },
  {
   "cell_type": "code",
   "execution_count": 5,
   "metadata": {
    "tags": []
   },
   "outputs": [
    {
     "data": {
      "text/html": [
       "<div>\n",
       "<style scoped>\n",
       "    .dataframe tbody tr th:only-of-type {\n",
       "        vertical-align: middle;\n",
       "    }\n",
       "\n",
       "    .dataframe tbody tr th {\n",
       "        vertical-align: top;\n",
       "    }\n",
       "\n",
       "    .dataframe thead th {\n",
       "        text-align: right;\n",
       "    }\n",
       "</style>\n",
       "<table border=\"1\" class=\"dataframe\">\n",
       "  <thead>\n",
       "    <tr style=\"text-align: right;\">\n",
       "      <th></th>\n",
       "      <th>File</th>\n",
       "      <th>ID</th>\n",
       "      <th>Disease Type</th>\n",
       "    </tr>\n",
       "  </thead>\n",
       "  <tbody>\n",
       "    <tr>\n",
       "      <th>0</th>\n",
       "      <td>COVID/Covid (1200).png</td>\n",
       "      <td>0</td>\n",
       "      <td>COVID</td>\n",
       "    </tr>\n",
       "    <tr>\n",
       "      <th>1</th>\n",
       "      <td>COVID/Covid (122).png</td>\n",
       "      <td>0</td>\n",
       "      <td>COVID</td>\n",
       "    </tr>\n",
       "    <tr>\n",
       "      <th>2</th>\n",
       "      <td>non-COVID/Non-Covid (1004).png</td>\n",
       "      <td>1</td>\n",
       "      <td>non-COVID</td>\n",
       "    </tr>\n",
       "    <tr>\n",
       "      <th>3</th>\n",
       "      <td>non-COVID/Non-Covid (373).png</td>\n",
       "      <td>1</td>\n",
       "      <td>non-COVID</td>\n",
       "    </tr>\n",
       "    <tr>\n",
       "      <th>4</th>\n",
       "      <td>COVID/Covid (156).png</td>\n",
       "      <td>0</td>\n",
       "      <td>COVID</td>\n",
       "    </tr>\n",
       "    <tr>\n",
       "      <th>...</th>\n",
       "      <td>...</td>\n",
       "      <td>...</td>\n",
       "      <td>...</td>\n",
       "    </tr>\n",
       "    <tr>\n",
       "      <th>2476</th>\n",
       "      <td>non-COVID/Non-Covid (216).png</td>\n",
       "      <td>1</td>\n",
       "      <td>non-COVID</td>\n",
       "    </tr>\n",
       "    <tr>\n",
       "      <th>2477</th>\n",
       "      <td>COVID/Covid (909).png</td>\n",
       "      <td>0</td>\n",
       "      <td>COVID</td>\n",
       "    </tr>\n",
       "    <tr>\n",
       "      <th>2478</th>\n",
       "      <td>COVID/Covid (653).png</td>\n",
       "      <td>0</td>\n",
       "      <td>COVID</td>\n",
       "    </tr>\n",
       "    <tr>\n",
       "      <th>2479</th>\n",
       "      <td>non-COVID/Non-Covid (555).png</td>\n",
       "      <td>1</td>\n",
       "      <td>non-COVID</td>\n",
       "    </tr>\n",
       "    <tr>\n",
       "      <th>2480</th>\n",
       "      <td>COVID/Covid (363).png</td>\n",
       "      <td>0</td>\n",
       "      <td>COVID</td>\n",
       "    </tr>\n",
       "  </tbody>\n",
       "</table>\n",
       "<p>2481 rows × 3 columns</p>\n",
       "</div>"
      ],
      "text/plain": [
       "                                File  ID Disease Type\n",
       "0             COVID/Covid (1200).png   0        COVID\n",
       "1              COVID/Covid (122).png   0        COVID\n",
       "2     non-COVID/Non-Covid (1004).png   1    non-COVID\n",
       "3      non-COVID/Non-Covid (373).png   1    non-COVID\n",
       "4              COVID/Covid (156).png   0        COVID\n",
       "...                              ...  ..          ...\n",
       "2476   non-COVID/Non-Covid (216).png   1    non-COVID\n",
       "2477           COVID/Covid (909).png   0        COVID\n",
       "2478           COVID/Covid (653).png   0        COVID\n",
       "2479   non-COVID/Non-Covid (555).png   1    non-COVID\n",
       "2480           COVID/Covid (363).png   0        COVID\n",
       "\n",
       "[2481 rows x 3 columns]"
      ]
     },
     "execution_count": 5,
     "metadata": {},
     "output_type": "execute_result"
    },
    {
     "data": {
      "image/png": "[encoded data removed]",
      "text/plain": [
       "<Figure size 432x288 with 1 Axes>"
      ]
     },
     "metadata": {
      "needs_background": "light"
     },
     "output_type": "display_data"
    }
   ],
   "source": [
    "seed = 42\n",
    "trainDataset = trainDataset.sample(frac=1, replace=False, random_state=seed)\n",
    "trainDataset = trainDataset.reset_index(drop=True)\n",
    "\n",
    "sns.countplot(x = \"ID\", data=trainDataset).set_title(\"Frequency Histogram (0: COVID, 1: non-COVID)\")\n",
    "trainDataset"
   ]
  },
  {
   "cell_type": "markdown",
   "metadata": {},
   "source": [
    "### Dataset Sample Visualization"
   ]
  },
  {
   "cell_type": "code",
   "execution_count": 6,
   "metadata": {
    "tags": []
   },
   "outputs": [
    {
     "data": {
      "image/png": "[encoded data removed]",
      "text/plain": [
       "<Figure size 360x360 with 4 Axes>"
      ]
     },
     "metadata": {},
     "output_type": "display_data"
    },
    {
     "data": {
      "image/png": "[encoded data removed]",
      "text/plain": [
       "<Figure size 360x360 with 4 Axes>"
      ]
     },
     "metadata": {},
     "output_type": "display_data"
    }
   ],
   "source": [
    "def plot_defects(defect_types, rows, cols):\n",
    "    fig, ax = plt.subplots(rows, cols, figsize=(5, 5))\n",
    "    defect_files = trainDataset['File'][trainDataset['Disease Type'] == defect_types].values\n",
    "    n = 0\n",
    "    fig.suptitle(defect_types, fontsize = 22, color = \"black\")\n",
    "    for i in range(rows):\n",
    "        for j in range(cols):\n",
    "            image_path = os.path.join(dataDir, defect_files[n])\n",
    "            ax[i, j].set_xticks([])\n",
    "            ax[i, j].set_yticks([])\n",
    "            ax[i, j].imshow(cv2.imread(image_path))\n",
    "            n += 1\n",
    "\n",
    "\n",
    "plot_defects('COVID', 2, 2)\n",
    "plot_defects('non-COVID', 2, 2)"
   ]
  },
  {
   "cell_type": "markdown",
   "metadata": {},
   "source": [
    "### Preprocessing the Dataset"
   ]
  },
  {
   "cell_type": "code",
   "execution_count": 7,
   "metadata": {
    "tags": []
   },
   "outputs": [],
   "source": [
    "imageSize = 224\n",
    "def readImage(filePath) :\n",
    "    return cv2.imread(os.path.join(dataDir, filePath))\n",
    "\n",
    "def resizeImage(image, imageSize) :\n",
    "    return cv2.resize(image.copy(), imageSize, interpolation=cv2.INTER_AREA)"
   ]
  },
  {
   "cell_type": "code",
   "execution_count": 8,
   "metadata": {
    "tags": []
   },
   "outputs": [
    {
     "name": "stdout",
     "output_type": "stream",
     "text": [
      "Train Dataset Shape:  (2481, 224, 224, 3)\n",
      "Test Dataset Shape:  (2481, 2)\n"
     ]
    }
   ],
   "source": [
    "trainNumpy = np.zeros((trainDataset.shape[0], imageSize, imageSize, 3))\n",
    "\n",
    "for i, file in enumerate(trainDataset['File'].values) :\n",
    "    image = readImage(file)\n",
    "    if image is not None :\n",
    "        trainNumpy[i] = resizeImage(image, (imageSize, imageSize))\n",
    "\n",
    "trainNumpy = trainNumpy / 255.0\n",
    "print(\"Train Dataset Shape: \", trainNumpy.shape)\n",
    "\n",
    "testNumpy = to_categorical(trainDataset['ID'].values, num_classes=2)\n",
    "print(\"Test Dataset Shape: \", testNumpy.shape)"
   ]
  },
  {
   "cell_type": "code",
   "execution_count": 9,
   "metadata": {
    "tags": []
   },
   "outputs": [
    {
     "name": "stdout",
     "output_type": "stream",
     "text": [
      "X - Train Shape:  (1984, 224, 224, 3)\n",
      "X - Test Shape:  (497, 224, 224, 3)\n",
      "Y - Train Shape:  (1984, 2)\n",
      "Y - Test Shape:  (497, 2)\n"
     ]
    }
   ],
   "source": [
    "xtrain, xtest, ytrain, ytest = train_test_split(trainNumpy, testNumpy, test_size=0.2, random_state=seed)\n",
    "print(\"X - Train Shape: \", xtrain.shape)\n",
    "print(\"X - Test Shape: \", xtest.shape)\n",
    "print(\"Y - Train Shape: \", ytrain.shape)\n",
    "print(\"Y - Test Shape: \", ytest.shape)"
   ]
  },
  {
   "cell_type": "markdown",
   "metadata": {},
   "source": [
    "### Building the Model and Modifying for Cuckoo Search"
   ]
  },
  {
   "cell_type": "code",
   "execution_count": 10,
   "metadata": {
    "tags": []
   },
   "outputs": [],
   "source": [
    "def buildModel(imageSize, channels) :\n",
    "    denseNet = DenseNet121(include_top=False, weights=\"imagenet\")\n",
    "    input = Input(shape=(imageSize, imageSize, channels))\n",
    "    x = Conv2D(3, (3, 3), padding = 'same')(input)\n",
    "    x = denseNet(x)\n",
    "    x = GlobalAveragePooling2D()(x)\n",
    "    x = BatchNormalization()(x)\n",
    "    x = Dropout(rate=0.25)(x)\n",
    "    x = Flatten()(x)\n",
    "    x = Dense(64, activation = 'relu')(x)\n",
    "    x = BatchNormalization()(x)\n",
    "    output = Dense(2, activation='softmax')(x)\n",
    "    model = Model(input, output)\n",
    "    for layer in denseNet.layers:\n",
    "        layer.trainable = False\n",
    "\n",
    "    optimizer = Adam(learning_rate = 0.003, beta_1 = 0.9, beta_2 = 0.999, epsilon = 0.1, decay = 0.0)\n",
    "    model.compile(loss = 'categorical_crossentropy',\n",
    "                  optimizer = optimizer,\n",
    "                  metrics = ['accuracy'])\n",
    "    model.summary()\n",
    "    return model"
   ]
  },
  {
   "cell_type": "code",
   "execution_count": 11,
   "metadata": {
    "tags": []
   },
   "outputs": [
    {
     "name": "stdout",
     "output_type": "stream",
     "text": [
      "Model: \"model\"\n",
      "_________________________________________________________________\n",
      "Layer (type)                 Output Shape              Param #   \n",
      "=================================================================\n",
      "input_2 (InputLayer)         [(None, 224, 224, 3)]     0         \n",
      "_________________________________________________________________\n",
      "conv2d (Conv2D)              (None, 224, 224, 3)       84        \n",
      "_________________________________________________________________\n",
      "densenet121 (Functional)     (None, None, None, 1024)  7037504   \n",
      "_________________________________________________________________\n",
      "global_average_pooling2d (Gl (None, 1024)              0         \n",
      "_________________________________________________________________\n",
      "batch_normalization (BatchNo (None, 1024)              4096      \n",
      "_________________________________________________________________\n",
      "dropout (Dropout)            (None, 1024)              0         \n",
      "_________________________________________________________________\n",
      "flatten (Flatten)            (None, 1024)              0         \n",
      "_________________________________________________________________\n",
      "dense (Dense)                (None, 64)                65600     \n",
      "_________________________________________________________________\n",
      "batch_normalization_1 (Batch (None, 64)                256       \n",
      "_________________________________________________________________\n",
      "dense_1 (Dense)              (None, 2)                 130       \n",
      "=================================================================\n",
      "Total params: 7,107,670\n",
      "Trainable params: 67,990\n",
      "Non-trainable params: 7,039,680\n",
      "_________________________________________________________________\n",
      "('You must install pydot (`pip install pydot`) and install graphviz (see instructions at https://graphviz.gitlab.io/download/) ', 'for plot_model/model_to_dot to work.')\n"
     ]
    }
   ],
   "source": [
    "channels = 3\n",
    "\n",
    "model = buildModel(imageSize, channels)\n",
    "annealer = ReduceLROnPlateau(monitor = 'val_accuracy', factor = 0.70, patience = 5, verbose = 1, min_lr = 1e-4)\n",
    "checkpoint = ModelCheckpoint('./SavedModels/Pretrained_DenseNet121/DenseNet121_BestModel.h5', verbose = 1, save_best_only = True)\n",
    "\n",
    "# Generates batches of image data with data augmentation\n",
    "datagen = ImageDataGenerator(rotation_range = 360, width_shift_range = 0.2, height_shift_range = 0.2, zoom_range = 0.2, horizontal_flip = True, vertical_flip = True)\n",
    "datagen.fit(xtrain)\n",
    "\n",
    "plot_model(model, to_file = './Plot_Images/Model_Architecture.png', show_shapes = True, show_layer_names = True)"
   ]
  },
  {
   "cell_type": "markdown",
   "metadata": {},
   "source": [
    "### Training the Dataset with the created Model"
   ]
  },
  {
   "cell_type": "code",
   "execution_count": 13,
   "metadata": {
    "tags": []
   },
   "outputs": [
    {
     "name": "stdout",
     "output_type": "stream",
     "text": [
      "Epoch 1/30\n",
      "31/31 [==============================] - 34s 949ms/step - loss: 0.8245 - accuracy: 0.5988 - val_loss: 0.7206 - val_accuracy: 0.5473\n",
      "\n",
      "Epoch 00001: val_loss improved from inf to 0.72060, saving model to ./SavedModels/Pretrained_DenseNet121/DenseNet121_BestModel.h5\n",
      "Epoch 2/30\n",
      "31/31 [==============================] - 21s 661ms/step - loss: 0.7020 - accuracy: 0.6608 - val_loss: 0.6242 - val_accuracy: 0.6479\n",
      "\n",
      "Epoch 00002: val_loss improved from 0.72060 to 0.62424, saving model to ./SavedModels/Pretrained_DenseNet121/DenseNet121_BestModel.h5\n",
      "Epoch 3/30\n",
      "31/31 [==============================] - 21s 659ms/step - loss: 0.6183 - accuracy: 0.6930 - val_loss: 0.5487 - val_accuracy: 0.7103\n",
      "\n",
      "Epoch 00003: val_loss improved from 0.62424 to 0.54873, saving model to ./SavedModels/Pretrained_DenseNet121/DenseNet121_BestModel.h5\n",
      "Epoch 4/30\n",
      "31/31 [==============================] - 21s 657ms/step - loss: 0.5418 - accuracy: 0.7359 - val_loss: 0.5127 - val_accuracy: 0.7243\n",
      "\n",
      "Epoch 00004: val_loss improved from 0.54873 to 0.51269, saving model to ./SavedModels/Pretrained_DenseNet121/DenseNet121_BestModel.h5\n",
      "Epoch 5/30\n",
      "31/31 [==============================] - 21s 654ms/step - loss: 0.5208 - accuracy: 0.7450 - val_loss: 0.4815 - val_accuracy: 0.7505\n",
      "\n",
      "Epoch 00005: val_loss improved from 0.51269 to 0.48147, saving model to ./SavedModels/Pretrained_DenseNet121/DenseNet121_BestModel.h5\n",
      "Epoch 6/30\n",
      "31/31 [==============================] - 21s 662ms/step - loss: 0.5124 - accuracy: 0.7495 - val_loss: 0.4483 - val_accuracy: 0.7887\n",
      "\n",
      "Epoch 00006: val_loss improved from 0.48147 to 0.44832, saving model to ./SavedModels/Pretrained_DenseNet121/DenseNet121_BestModel.h5\n",
      "Epoch 7/30\n",
      "31/31 [==============================] - 21s 645ms/step - loss: 0.4890 - accuracy: 0.7777 - val_loss: 0.4408 - val_accuracy: 0.7847\n",
      "\n",
      "Epoch 00007: val_loss improved from 0.44832 to 0.44079, saving model to ./SavedModels/Pretrained_DenseNet121/DenseNet121_BestModel.h5\n",
      "Epoch 8/30\n",
      "31/31 [==============================] - 21s 664ms/step - loss: 0.4730 - accuracy: 0.7787 - val_loss: 0.4159 - val_accuracy: 0.7988\n",
      "\n",
      "Epoch 00008: val_loss improved from 0.44079 to 0.41594, saving model to ./SavedModels/Pretrained_DenseNet121/DenseNet121_BestModel.h5\n",
      "Epoch 9/30\n",
      "31/31 [==============================] - 21s 659ms/step - loss: 0.4743 - accuracy: 0.7777 - val_loss: 0.4035 - val_accuracy: 0.8089\n",
      "\n",
      "Epoch 00009: val_loss improved from 0.41594 to 0.40351, saving model to ./SavedModels/Pretrained_DenseNet121/DenseNet121_BestModel.h5\n",
      "Epoch 10/30\n",
      "31/31 [==============================] - 21s 661ms/step - loss: 0.4541 - accuracy: 0.7913 - val_loss: 0.3953 - val_accuracy: 0.8229\n",
      "\n",
      "Epoch 00010: val_loss improved from 0.40351 to 0.39532, saving model to ./SavedModels/Pretrained_DenseNet121/DenseNet121_BestModel.h5\n",
      "Epoch 11/30\n",
      "31/31 [==============================] - 21s 649ms/step - loss: 0.4231 - accuracy: 0.8014 - val_loss: 0.3946 - val_accuracy: 0.8290\n",
      "\n",
      "Epoch 00011: val_loss improved from 0.39532 to 0.39460, saving model to ./SavedModels/Pretrained_DenseNet121/DenseNet121_BestModel.h5\n",
      "Epoch 12/30\n",
      "31/31 [==============================] - 21s 663ms/step - loss: 0.4211 - accuracy: 0.8034 - val_loss: 0.4001 - val_accuracy: 0.8310\n",
      "\n",
      "Epoch 00012: val_loss did not improve from 0.39460\n",
      "Epoch 13/30\n",
      "31/31 [==============================] - 21s 662ms/step - loss: 0.4299 - accuracy: 0.7853 - val_loss: 0.3666 - val_accuracy: 0.8511\n",
      "\n",
      "Epoch 00013: val_loss improved from 0.39460 to 0.36662, saving model to ./SavedModels/Pretrained_DenseNet121/DenseNet121_BestModel.h5\n",
      "Epoch 14/30\n",
      "31/31 [==============================] - 21s 662ms/step - loss: 0.4203 - accuracy: 0.8221 - val_loss: 0.3477 - val_accuracy: 0.8390\n",
      "\n",
      "Epoch 00014: val_loss improved from 0.36662 to 0.34771, saving model to ./SavedModels/Pretrained_DenseNet121/DenseNet121_BestModel.h5\n",
      "Epoch 15/30\n",
      "31/31 [==============================] - 21s 652ms/step - loss: 0.3962 - accuracy: 0.8211 - val_loss: 0.3521 - val_accuracy: 0.8431\n",
      "\n",
      "Epoch 00015: val_loss did not improve from 0.34771\n",
      "Epoch 16/30\n",
      "31/31 [==============================] - 21s 665ms/step - loss: 0.3986 - accuracy: 0.8095 - val_loss: 0.3498 - val_accuracy: 0.8270\n",
      "\n",
      "Epoch 00016: val_loss did not improve from 0.34771\n",
      "Epoch 17/30\n",
      "31/31 [==============================] - 21s 658ms/step - loss: 0.3848 - accuracy: 0.8180 - val_loss: 0.3463 - val_accuracy: 0.8209\n",
      "\n",
      "Epoch 00017: val_loss improved from 0.34771 to 0.34628, saving model to ./SavedModels/Pretrained_DenseNet121/DenseNet121_BestModel.h5\n",
      "Epoch 18/30\n",
      "31/31 [==============================] - 21s 659ms/step - loss: 0.3850 - accuracy: 0.8261 - val_loss: 0.3497 - val_accuracy: 0.8270\n",
      "\n",
      "Epoch 00018: ReduceLROnPlateau reducing learning rate to 0.002100000018253922.\n",
      "\n",
      "Epoch 00018: val_loss did not improve from 0.34628\n",
      "Epoch 19/30\n",
      "31/31 [==============================] - 21s 650ms/step - loss: 0.3768 - accuracy: 0.8296 - val_loss: 0.3319 - val_accuracy: 0.8571\n",
      "\n",
      "Epoch 00019: val_loss improved from 0.34628 to 0.33189, saving model to ./SavedModels/Pretrained_DenseNet121/DenseNet121_BestModel.h5\n",
      "Epoch 20/30\n",
      "31/31 [==============================] - 21s 662ms/step - loss: 0.3884 - accuracy: 0.8246 - val_loss: 0.3261 - val_accuracy: 0.8551\n",
      "\n",
      "Epoch 00020: val_loss improved from 0.33189 to 0.32615, saving model to ./SavedModels/Pretrained_DenseNet121/DenseNet121_BestModel.h5\n",
      "Epoch 21/30\n",
      "31/31 [==============================] - 21s 663ms/step - loss: 0.3860 - accuracy: 0.8191 - val_loss: 0.3255 - val_accuracy: 0.8451\n",
      "\n",
      "Epoch 00021: val_loss improved from 0.32615 to 0.32547, saving model to ./SavedModels/Pretrained_DenseNet121/DenseNet121_BestModel.h5\n",
      "Epoch 22/30\n",
      "31/31 [==============================] - 21s 662ms/step - loss: 0.3675 - accuracy: 0.8432 - val_loss: 0.3422 - val_accuracy: 0.8592\n",
      "\n",
      "Epoch 00022: val_loss did not improve from 0.32547\n",
      "Epoch 23/30\n",
      "31/31 [==============================] - 21s 654ms/step - loss: 0.3776 - accuracy: 0.8352 - val_loss: 0.3375 - val_accuracy: 0.8451\n",
      "\n",
      "Epoch 00023: val_loss did not improve from 0.32547\n",
      "Epoch 24/30\n",
      "31/31 [==============================] - 21s 656ms/step - loss: 0.3709 - accuracy: 0.8311 - val_loss: 0.3150 - val_accuracy: 0.8753\n",
      "\n",
      "Epoch 00024: val_loss improved from 0.32547 to 0.31495, saving model to ./SavedModels/Pretrained_DenseNet121/DenseNet121_BestModel.h5\n",
      "Epoch 25/30\n",
      "31/31 [==============================] - 21s 663ms/step - loss: 0.3599 - accuracy: 0.8357 - val_loss: 0.3346 - val_accuracy: 0.8632\n",
      "\n",
      "Epoch 00025: val_loss did not improve from 0.31495\n",
      "Epoch 26/30\n",
      "31/31 [==============================] - 21s 663ms/step - loss: 0.3822 - accuracy: 0.8271 - val_loss: 0.3293 - val_accuracy: 0.8551\n",
      "\n",
      "Epoch 00026: val_loss did not improve from 0.31495\n",
      "Epoch 27/30\n",
      "31/31 [==============================] - 21s 663ms/step - loss: 0.3647 - accuracy: 0.8387 - val_loss: 0.3015 - val_accuracy: 0.8793\n",
      "\n",
      "Epoch 00027: val_loss improved from 0.31495 to 0.30154, saving model to ./SavedModels/Pretrained_DenseNet121/DenseNet121_BestModel.h5\n",
      "Epoch 28/30\n",
      "31/31 [==============================] - 21s 664ms/step - loss: 0.3417 - accuracy: 0.8458 - val_loss: 0.3044 - val_accuracy: 0.8652\n",
      "\n",
      "Epoch 00028: val_loss did not improve from 0.30154\n",
      "Epoch 29/30\n",
      "31/31 [==============================] - 21s 650ms/step - loss: 0.3538 - accuracy: 0.8397 - val_loss: 0.3173 - val_accuracy: 0.8692\n",
      "\n",
      "Epoch 00029: val_loss did not improve from 0.30154\n",
      "Epoch 30/30\n",
      "31/31 [==============================] - 21s 659ms/step - loss: 0.3663 - accuracy: 0.8347 - val_loss: 0.3020 - val_accuracy: 0.8853\n",
      "\n",
      "Epoch 00030: val_loss did not improve from 0.30154\n"
     ]
    }
   ],
   "source": [
    "BATCH_SIZE = 64\n",
    "EPOCHS = 30\n",
    "\n",
    "hist = model.fit(datagen.flow(xtrain, ytrain, batch_size = BATCH_SIZE),\n",
    "               steps_per_epoch = xtrain.shape[0] // BATCH_SIZE,\n",
    "               epochs = EPOCHS,\n",
    "               verbose = 1,\n",
    "               callbacks = [annealer, checkpoint],\n",
    "               validation_data = (xtest, ytest))"
   ]
  },
  {
   "cell_type": "code",
   "execution_count": 14,
   "metadata": {
    "tags": []
   },
   "outputs": [
    {
     "name": "stdout",
     "output_type": "stream",
     "text": [
      "16/16 [==============================] - 3s 91ms/step - loss: 0.3015 - accuracy: 0.8793\n",
      "Final Loss: 0.30, Final Accuracy: 0.88\n"
     ]
    }
   ],
   "source": [
    "model = load_model('./SavedModels/Pretrained_DenseNet121/DenseNet121_BestModel.h5')\n",
    "final_loss, final_accuracy = model.evaluate(xtest, ytest)\n",
    "print('Final Loss: {:.2f}, Final Accuracy: {:.2f}'.format(final_loss, final_accuracy))"
   ]
  },
  {
   "cell_type": "code",
   "execution_count": 15,
   "metadata": {
    "tags": []
   },
   "outputs": [
    {
     "data": {
      "image/png": "[encoded data removed]",
      "text/plain": [
       "<Figure size 432x288 with 2 Axes>"
      ]
     },
     "metadata": {
      "needs_background": "light"
     },
     "output_type": "display_data"
    }
   ],
   "source": [
    "from sklearn.metrics import confusion_matrix, ConfusionMatrixDisplay\n",
    "\n",
    "ypred = model.predict(xtest)\n",
    "ypred = np.argmax(ypred, axis = 1)\n",
    "ytest = np.argmax(ytest, axis = 1)\n",
    "cm = confusion_matrix(ypred, ytest)\n",
    "cmDisplay = ConfusionMatrixDisplay(cm).plot()"
   ]
  },
  {
   "cell_type": "code",
   "execution_count": 24,
   "metadata": {
    "tags": []
   },
   "outputs": [
    {
     "name": "stdout",
     "output_type": "stream",
     "text": [
      "[0.9070097  0.09299026]\n"
     ]
    }
   ],
   "source": [
    "img_file_name = dataDir + '/COVID/Covid (634).png'\n",
    "img = load_img(img_file_name, grayscale=False, target_size=(224, 224))\n",
    "disease_class=['Covid-19','Non Covid-19']\n",
    "x = img_to_array(img)\n",
    "x = np.expand_dims(x, axis = 0)\n",
    "x /= 255\n",
    "\n",
    "custom = model.predict(x)\n",
    "print(custom[0])"
   ]
  }
 ],
 "metadata": {
  "availableInstances": [
   {
    "_defaultOrder": 0,
    "_isFastLaunch": true,
    "category": "General purpose",
    "gpuNum": 0,
    "hideHardwareSpecs": false,
    "memoryGiB": 4,
    "name": "ml.t3.medium",
    "vcpuNum": 2
   },
   {
    "_defaultOrder": 1,
    "_isFastLaunch": false,
    "category": "General purpose",
    "gpuNum": 0,
    "hideHardwareSpecs": false,
    "memoryGiB": 8,
    "name": "ml.t3.large",
    "vcpuNum": 2
   },
   {
    "_defaultOrder": 2,
    "_isFastLaunch": false,
    "category": "General purpose",
    "gpuNum": 0,
    "hideHardwareSpecs": false,
    "memoryGiB": 16,
    "name": "ml.t3.xlarge",
    "vcpuNum": 4
   },
   {
    "_defaultOrder": 3,
    "_isFastLaunch": false,
    "category": "General purpose",
    "gpuNum": 0,
    "hideHardwareSpecs": false,
    "memoryGiB": 32,
    "name": "ml.t3.2xlarge",
    "vcpuNum": 8
   },
   {
    "_defaultOrder": 4,
    "_isFastLaunch": true,
    "category": "General purpose",
    "gpuNum": 0,
    "hideHardwareSpecs": false,
    "memoryGiB": 8,
    "name": "ml.m5.large",
    "vcpuNum": 2
   },
   {
    "_defaultOrder": 5,
    "_isFastLaunch": false,
    "category": "General purpose",
    "gpuNum": 0,
    "hideHardwareSpecs": false,
    "memoryGiB": 16,
    "name": "ml.m5.xlarge",
    "vcpuNum": 4
   },
   {
    "_defaultOrder": 6,
    "_isFastLaunch": false,
    "category": "General purpose",
    "gpuNum": 0,
    "hideHardwareSpecs": false,
    "memoryGiB": 32,
    "name": "ml.m5.2xlarge",
    "vcpuNum": 8
   },
   {
    "_defaultOrder": 7,
    "_isFastLaunch": false,
    "category": "General purpose",
    "gpuNum": 0,
    "hideHardwareSpecs": false,
    "memoryGiB": 64,
    "name": "ml.m5.4xlarge",
    "vcpuNum": 16
   },
   {
    "_defaultOrder": 8,
    "_isFastLaunch": false,
    "category": "General purpose",
    "gpuNum": 0,
    "hideHardwareSpecs": false,
    "memoryGiB": 128,
    "name": "ml.m5.8xlarge",
    "vcpuNum": 32
   },
   {
    "_defaultOrder": 9,
    "_isFastLaunch": false,
    "category": "General purpose",
    "gpuNum": 0,
    "hideHardwareSpecs": false,
    "memoryGiB": 192,
    "name": "ml.m5.12xlarge",
    "vcpuNum": 48
   },
   {
    "_defaultOrder": 10,
    "_isFastLaunch": false,
    "category": "General purpose",
    "gpuNum": 0,
    "hideHardwareSpecs": false,
    "memoryGiB": 256,
    "name": "ml.m5.16xlarge",
    "vcpuNum": 64
   },
   {
    "_defaultOrder": 11,
    "_isFastLaunch": false,
    "category": "General purpose",
    "gpuNum": 0,
    "hideHardwareSpecs": false,
    "memoryGiB": 384,
    "name": "ml.m5.24xlarge",
    "vcpuNum": 96
   },
   {
    "_defaultOrder": 12,
    "_isFastLaunch": false,
    "category": "General purpose",
    "gpuNum": 0,
    "hideHardwareSpecs": false,
    "memoryGiB": 8,
    "name": "ml.m5d.large",
    "vcpuNum": 2
   },
   {
    "_defaultOrder": 13,
    "_isFastLaunch": false,
    "category": "General purpose",
    "gpuNum": 0,
    "hideHardwareSpecs": false,
    "memoryGiB": 16,
    "name": "ml.m5d.xlarge",
    "vcpuNum": 4
   },
   {
    "_defaultOrder": 14,
    "_isFastLaunch": false,
    "category": "General purpose",
    "gpuNum": 0,
    "hideHardwareSpecs": false,
    "memoryGiB": 32,
    "name": "ml.m5d.2xlarge",
    "vcpuNum": 8
   },
   {
    "_defaultOrder": 15,
    "_isFastLaunch": false,
    "category": "General purpose",
    "gpuNum": 0,
    "hideHardwareSpecs": false,
    "memoryGiB": 64,
    "name": "ml.m5d.4xlarge",
    "vcpuNum": 16
   },
   {
    "_defaultOrder": 16,
    "_isFastLaunch": false,
    "category": "General purpose",
    "gpuNum": 0,
    "hideHardwareSpecs": false,
    "memoryGiB": 128,
    "name": "ml.m5d.8xlarge",
    "vcpuNum": 32
   },
   {
    "_defaultOrder": 17,
    "_isFastLaunch": false,
    "category": "General purpose",
    "gpuNum": 0,
    "hideHardwareSpecs": false,
    "memoryGiB": 192,
    "name": "ml.m5d.12xlarge",
    "vcpuNum": 48
   },
   {
    "_defaultOrder": 18,
    "_isFastLaunch": false,
    "category": "General purpose",
    "gpuNum": 0,
    "hideHardwareSpecs": false,
    "memoryGiB": 256,
    "name": "ml.m5d.16xlarge",
    "vcpuNum": 64
   },
   {
    "_defaultOrder": 19,
    "_isFastLaunch": false,
    "category": "General purpose",
    "gpuNum": 0,
    "hideHardwareSpecs": false,
    "memoryGiB": 384,
    "name": "ml.m5d.24xlarge",
    "vcpuNum": 96
   },
   {
    "_defaultOrder": 20,
    "_isFastLaunch": false,
    "category": "General purpose",
    "gpuNum": 0,
    "hideHardwareSpecs": true,
    "memoryGiB": 0,
    "name": "ml.geospatial.interactive",
    "supportedImageNames": [
     "sagemaker-geospatial-v1-0"
    ],
    "vcpuNum": 0
   },
   {
    "_defaultOrder": 21,
    "_isFastLaunch": true,
    "category": "Compute optimized",
    "gpuNum": 0,
    "hideHardwareSpecs": false,
    "memoryGiB": 4,
    "name": "ml.c5.large",
    "vcpuNum": 2
   },
   {
    "_defaultOrder": 22,
    "_isFastLaunch": false,
    "category": "Compute optimized",
    "gpuNum": 0,
    "hideHardwareSpecs": false,
    "memoryGiB": 8,
    "name": "ml.c5.xlarge",
    "vcpuNum": 4
   },
   {
    "_defaultOrder": 23,
    "_isFastLaunch": false,
    "category": "Compute optimized",
    "gpuNum": 0,
    "hideHardwareSpecs": false,
    "memoryGiB": 16,
    "name": "ml.c5.2xlarge",
    "vcpuNum": 8
   },
   {
    "_defaultOrder": 24,
    "_isFastLaunch": false,
    "category": "Compute optimized",
    "gpuNum": 0,
    "hideHardwareSpecs": false,
    "memoryGiB": 32,
    "name": "ml.c5.4xlarge",
    "vcpuNum": 16
   },
   {
    "_defaultOrder": 25,
    "_isFastLaunch": false,
    "category": "Compute optimized",
    "gpuNum": 0,
    "hideHardwareSpecs": false,
    "memoryGiB": 72,
    "name": "ml.c5.9xlarge",
    "vcpuNum": 36
   },
   {
    "_defaultOrder": 26,
    "_isFastLaunch": false,
    "category": "Compute optimized",
    "gpuNum": 0,
    "hideHardwareSpecs": false,
    "memoryGiB": 96,
    "name": "ml.c5.12xlarge",
    "vcpuNum": 48
   },
   {
    "_defaultOrder": 27,
    "_isFastLaunch": false,
    "category": "Compute optimized",
    "gpuNum": 0,
    "hideHardwareSpecs": false,
    "memoryGiB": 144,
    "name": "ml.c5.18xlarge",
    "vcpuNum": 72
   },
   {
    "_defaultOrder": 28,
    "_isFastLaunch": false,
    "category": "Compute optimized",
    "gpuNum": 0,
    "hideHardwareSpecs": false,
    "memoryGiB": 192,
    "name": "ml.c5.24xlarge",
    "vcpuNum": 96
   },
   {
    "_defaultOrder": 29,
    "_isFastLaunch": true,
    "category": "Accelerated computing",
    "gpuNum": 1,
    "hideHardwareSpecs": false,
    "memoryGiB": 16,
    "name": "ml.g4dn.xlarge",
    "vcpuNum": 4
   },
   {
    "_defaultOrder": 30,
    "_isFastLaunch": false,
    "category": "Accelerated computing",
    "gpuNum": 1,
    "hideHardwareSpecs": false,
    "memoryGiB": 32,
    "name": "ml.g4dn.2xlarge",
    "vcpuNum": 8
   },
   {
    "_defaultOrder": 31,
    "_isFastLaunch": false,
    "category": "Accelerated computing",
    "gpuNum": 1,
    "hideHardwareSpecs": false,
    "memoryGiB": 64,
    "name": "ml.g4dn.4xlarge",
    "vcpuNum": 16
   },
   {
    "_defaultOrder": 32,
    "_isFastLaunch": false,
    "category": "Accelerated computing",
    "gpuNum": 1,
    "hideHardwareSpecs": false,
    "memoryGiB": 128,
    "name": "ml.g4dn.8xlarge",
    "vcpuNum": 32
   },
   {
    "_defaultOrder": 33,
    "_isFastLaunch": false,
    "category": "Accelerated computing",
    "gpuNum": 4,
    "hideHardwareSpecs": false,
    "memoryGiB": 192,
    "name": "ml.g4dn.12xlarge",
    "vcpuNum": 48
   },
   {
    "_defaultOrder": 34,
    "_isFastLaunch": false,
    "category": "Accelerated computing",
    "gpuNum": 1,
    "hideHardwareSpecs": false,
    "memoryGiB": 256,
    "name": "ml.g4dn.16xlarge",
    "vcpuNum": 64
   },
   {
    "_defaultOrder": 35,
    "_isFastLaunch": false,
    "category": "Accelerated computing",
    "gpuNum": 1,
    "hideHardwareSpecs": false,
    "memoryGiB": 61,
    "name": "ml.p3.2xlarge",
    "vcpuNum": 8
   },
   {
    "_defaultOrder": 36,
    "_isFastLaunch": false,
    "category": "Accelerated computing",
    "gpuNum": 4,
    "hideHardwareSpecs": false,
    "memoryGiB": 244,
    "name": "ml.p3.8xlarge",
    "vcpuNum": 32
   },
   {
    "_defaultOrder": 37,
    "_isFastLaunch": false,
    "category": "Accelerated computing",
    "gpuNum": 8,
    "hideHardwareSpecs": false,
    "memoryGiB": 488,
    "name": "ml.p3.16xlarge",
    "vcpuNum": 64
   },
   {
    "_defaultOrder": 38,
    "_isFastLaunch": false,
    "category": "Accelerated computing",
    "gpuNum": 8,
    "hideHardwareSpecs": false,
    "memoryGiB": 768,
    "name": "ml.p3dn.24xlarge",
    "vcpuNum": 96
   },
   {
    "_defaultOrder": 39,
    "_isFastLaunch": false,
    "category": "Memory Optimized",
    "gpuNum": 0,
    "hideHardwareSpecs": false,
    "memoryGiB": 16,
    "name": "ml.r5.large",
    "vcpuNum": 2
   },
   {
    "_defaultOrder": 40,
    "_isFastLaunch": false,
    "category": "Memory Optimized",
    "gpuNum": 0,
    "hideHardwareSpecs": false,
    "memoryGiB": 32,
    "name": "ml.r5.xlarge",
    "vcpuNum": 4
   },
   {
    "_defaultOrder": 41,
    "_isFastLaunch": false,
    "category": "Memory Optimized",
    "gpuNum": 0,
    "hideHardwareSpecs": false,
    "memoryGiB": 64,
    "name": "ml.r5.2xlarge",
    "vcpuNum": 8
   },
   {
    "_defaultOrder": 42,
    "_isFastLaunch": false,
    "category": "Memory Optimized",
    "gpuNum": 0,
    "hideHardwareSpecs": false,
    "memoryGiB": 128,
    "name": "ml.r5.4xlarge",
    "vcpuNum": 16
   },
   {
    "_defaultOrder": 43,
    "_isFastLaunch": false,
    "category": "Memory Optimized",
    "gpuNum": 0,
    "hideHardwareSpecs": false,
    "memoryGiB": 256,
    "name": "ml.r5.8xlarge",
    "vcpuNum": 32
   },
   {
    "_defaultOrder": 44,
    "_isFastLaunch": false,
    "category": "Memory Optimized",
    "gpuNum": 0,
    "hideHardwareSpecs": false,
    "memoryGiB": 384,
    "name": "ml.r5.12xlarge",
    "vcpuNum": 48
   },
   {
    "_defaultOrder": 45,
    "_isFastLaunch": false,
    "category": "Memory Optimized",
    "gpuNum": 0,
    "hideHardwareSpecs": false,
    "memoryGiB": 512,
    "name": "ml.r5.16xlarge",
    "vcpuNum": 64
   },
   {
    "_defaultOrder": 46,
    "_isFastLaunch": false,
    "category": "Memory Optimized",
    "gpuNum": 0,
    "hideHardwareSpecs": false,
    "memoryGiB": 768,
    "name": "ml.r5.24xlarge",
    "vcpuNum": 96
   },
   {
    "_defaultOrder": 47,
    "_isFastLaunch": false,
    "category": "Accelerated computing",
    "gpuNum": 1,
    "hideHardwareSpecs": false,
    "memoryGiB": 16,
    "name": "ml.g5.xlarge",
    "vcpuNum": 4
   },
   {
    "_defaultOrder": 48,
    "_isFastLaunch": false,
    "category": "Accelerated computing",
    "gpuNum": 1,
    "hideHardwareSpecs": false,
    "memoryGiB": 32,
    "name": "ml.g5.2xlarge",
    "vcpuNum": 8
   },
   {
    "_defaultOrder": 49,
    "_isFastLaunch": false,
    "category": "Accelerated computing",
    "gpuNum": 1,
    "hideHardwareSpecs": false,
    "memoryGiB": 64,
    "name": "ml.g5.4xlarge",
    "vcpuNum": 16
   },
   {
    "_defaultOrder": 50,
    "_isFastLaunch": false,
    "category": "Accelerated computing",
    "gpuNum": 1,
    "hideHardwareSpecs": false,
    "memoryGiB": 128,
    "name": "ml.g5.8xlarge",
    "vcpuNum": 32
   },
   {
    "_defaultOrder": 51,
    "_isFastLaunch": false,
    "category": "Accelerated computing",
    "gpuNum": 1,
    "hideHardwareSpecs": false,
    "memoryGiB": 256,
    "name": "ml.g5.16xlarge",
    "vcpuNum": 64
   },
   {
    "_defaultOrder": 52,
    "_isFastLaunch": false,
    "category": "Accelerated computing",
    "gpuNum": 4,
    "hideHardwareSpecs": false,
    "memoryGiB": 192,
    "name": "ml.g5.12xlarge",
    "vcpuNum": 48
   },
   {
    "_defaultOrder": 53,
    "_isFastLaunch": false,
    "category": "Accelerated computing",
    "gpuNum": 4,
    "hideHardwareSpecs": false,
    "memoryGiB": 384,
    "name": "ml.g5.24xlarge",
    "vcpuNum": 96
   },
   {
    "_defaultOrder": 54,
    "_isFastLaunch": false,
    "category": "Accelerated computing",
    "gpuNum": 8,
    "hideHardwareSpecs": false,
    "memoryGiB": 768,
    "name": "ml.g5.48xlarge",
    "vcpuNum": 192
   }
  ],
  "instance_type": "ml.g4dn.2xlarge",
  "kernelspec": {
   "display_name": "Python 3 (TensorFlow 2.6 Python 3.8 GPU Optimized)",
   "language": "python",
   "name": "python3__SAGEMAKER_INTERNAL__arn:aws:sagemaker:ap-south-1:394103062818:image/tensorflow-2.6-gpu-py38-cu112-ubuntu20.04-v1"
  },
  "language_info": {
   "codemirror_mode": {
    "name": "ipython",
    "version": 3
   },
   "file_extension": ".py",
   "mimetype": "text/x-python",
   "name": "python",
   "nbconvert_exporter": "python",
   "pygments_lexer": "ipython3",
   "version": "3.8.2"
  }
 },
 "nbformat": 4,
 "nbformat_minor": 4
}

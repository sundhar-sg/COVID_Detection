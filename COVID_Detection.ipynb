{
 "cells": [
  {
   "attachments": {},
   "cell_type": "markdown",
   "metadata": {},
   "source": [
    "### Importing the Necessary Libraries"
   ]
  },
  {
   "cell_type": "code",
   "execution_count": 13,
   "metadata": {
    "tags": []
   },
   "outputs": [],
   "source": [
    "import numpy as np\n",
    "import pandas as pd\n",
    "import matplotlib.pyplot as plt\n",
    "\n",
    "import tensorflow\n",
    "from tensorflow import convert_to_tensor\n",
    "from tensorflow import keras\n",
    "from tensorflow_datasets import as_numpy\n",
    "from keras import Input\n",
    "from keras.models import save_model\n",
    "from keras.applications import DenseNet121\n",
    "from keras.models import Model\n",
    "from keras.utils import image_dataset_from_directory, load_img, split_dataset\n",
    "from keras.utils.image_utils import img_to_array\n",
    "from keras.optimizers import Adam\n",
    "from keras.layers import Rescaling, Resizing\n",
    "from keras.losses import CategoricalCrossentropy\n",
    "from keras.metrics import Accuracy, CategoricalAccuracy, AUC\n",
    "from keras.callbacks import ModelCheckpoint\n",
    "from keras.layers import Conv2D, Dense, Dropout, Flatten, MaxPooling2D, AveragePooling2D, GlobalAveragePooling2D, BatchNormalization"
   ]
  },
  {
   "attachments": {},
   "cell_type": "markdown",
   "metadata": {},
   "source": [
    "### Splitting the Dataset into Training Set and Test Set"
   ]
  },
  {
   "cell_type": "code",
   "execution_count": 14,
   "metadata": {},
   "outputs": [
    {
     "name": "stdout",
     "output_type": "stream",
     "text": [
      "Found 2481 files belonging to 2 classes.\n",
      "Using 1985 files for training.\n",
      "Found 2481 files belonging to 2 classes.\n",
      "Using 496 files for validation.\n",
      "<tensorflow_datasets.core.dataset_utils._IterableDataset object at 0x00000153F0F00640>\n"
     ]
    }
   ],
   "source": [
    "trainingDataset = image_dataset_from_directory(\n",
    "    '../Datasets/COVID-19_Chest_CT-Scan_Dataset/',\n",
    "    labels = 'inferred',\n",
    "    label_mode = 'categorical',\n",
    "    color_mode = 'rgb',\n",
    "    batch_size = 32,\n",
    "    image_size = (224, 224),\n",
    "    seed = 123,\n",
    "    subset = 'training',\n",
    "    validation_split = 0.2\n",
    ")\n",
    "\n",
    "testDataset = image_dataset_from_directory(\n",
    "    '../Datasets/COVID-19_Chest_CT-Scan_Dataset/',\n",
    "    labels = 'inferred',\n",
    "    label_mode = 'categorical',\n",
    "    color_mode = 'rgb',\n",
    "    batch_size = 32,\n",
    "    image_size = (224, 224),\n",
    "    seed = 123,\n",
    "    subset = 'validation',\n",
    "    validation_split = 0.2\n",
    ")\n",
    "\n",
    "trainingDataset = as_numpy(trainingDataset)\n",
    "print(trainingDataset)"
   ]
  },
  {
   "attachments": {},
   "cell_type": "markdown",
   "metadata": {},
   "source": [
    "### Building the DenseNet121 Architecture Model"
   ]
  },
  {
   "cell_type": "code",
   "execution_count": null,
   "metadata": {},
   "outputs": [],
   "source": [
    "denseNet = DenseNet121(include_top = False, weights = 'imagenet', input_tensor = Input(shape = (224, 224, 3)), input_shape = (224, 224, 3), classifier_activation = 'softmax')\n",
    "\n",
    "denseModel = denseNet.output\n",
    "denseModel = GlobalAveragePooling2D()(denseModel)\n",
    "denseModel = Flatten()(denseModel)\n",
    "denseModel = Dense(units = 512, activation = 'relu')(denseModel)\n",
    "denseModel = Dropout(rate = 0.25)(denseModel)\n",
    "denseModel = Dense(units = 2, activation = 'softmax')(denseModel)\n",
    "\n",
    "model = Model(inputs = denseNet.input, outputs = denseModel)\n",
    "\n",
    "for layer in denseNet.layers :\n",
    "    layer.trainable = False\n",
    "\n",
    "model.summary()"
   ]
  },
  {
   "cell_type": "code",
   "execution_count": null,
   "metadata": {},
   "outputs": [],
   "source": [
    "model.compile(optimizer = Adam(learning_rate = 1e-3), loss = CategoricalCrossentropy(), metrics = [Accuracy(), CategoricalAccuracy(), AUC()])"
   ]
  },
  {
   "cell_type": "code",
   "execution_count": null,
   "metadata": {},
   "outputs": [],
   "source": [
    "model_checkpoint = ModelCheckpoint('./SavedModels/Pretrained_DenseNet121/DenseNet121_BestModel.h5', monitor = 'val_categorical_accuracy', verbose = 1, save_best_only = True, mode = 'auto')\n",
    "\n",
    "finalModel = model.fit(xTrain, yTrain, batch_size = 32, epochs = 5, verbose = 'auto', callbacks = [model_checkpoint])\n",
    "\n",
    "save_model(model, './SavedModels/Pretrained_DenseNet121/DenseNet121_BestModel.h5', overwrite = True, include_optimizer = True, save_format = None, signatures = None, options = None)"
   ]
  },
  {
   "attachments": {},
   "cell_type": "markdown",
   "metadata": {},
   "source": [
    "### Evaluating the Final Model"
   ]
  },
  {
   "cell_type": "code",
   "execution_count": null,
   "metadata": {},
   "outputs": [],
   "source": [
    "loss, accuracy, catAccuracy, auc = model.evaluate(x = xTest, y = yTest, verbose = 'auto', batch_size = 32)\n",
    "print(\"Loss: {:.2f} Accuracy: {:.2f} Categorical Accuracy: {:.2f} AUC: {:.2f}\".format(loss, accuracy, catAccuracy, auc))"
   ]
  },
  {
   "attachments": {},
   "cell_type": "markdown",
   "metadata": {},
   "source": [
    "### Making the Predictions"
   ]
  },
  {
   "cell_type": "code",
   "execution_count": null,
   "metadata": {},
   "outputs": [],
   "source": [
    "testImage = load_img(path = '../Datasets/COVID-19_Chest_CT-Scan_Dataset/non-COVID/Non-Covid (1035).png', target_size = (224, 224), color_mode = 'rgb')\n",
    "testImage = convert_to_tensor(testImage)\n",
    "testImage = img_to_array(testImage)\n",
    "testImage = np.array([testImage])\n",
    "prediction = model.predict(testImage)\n",
    "print(*prediction[0])"
   ]
  }
 ],
 "metadata": {
  "kernelspec": {
   "display_name": ".venv",
   "language": "python",
   "name": "python3"
  },
  "language_info": {
   "codemirror_mode": {
    "name": "ipython",
    "version": 3
   },
   "file_extension": ".py",
   "mimetype": "text/x-python",
   "name": "python",
   "nbconvert_exporter": "python",
   "pygments_lexer": "ipython3",
   "version": "3.10.9"
  },
  "orig_nbformat": 4,
  "vscode": {
   "interpreter": {
    "hash": "73c3b172914b19e72f3f2b077917141211111580047ba03e044c459a9c4f2900"
   }
  }
 },
 "nbformat": 4,
 "nbformat_minor": 2
}
